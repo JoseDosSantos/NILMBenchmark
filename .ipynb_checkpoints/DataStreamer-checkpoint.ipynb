{
 "cells": [
  {
   "cell_type": "code",
   "execution_count": 13,
   "metadata": {
    "ExecuteTime": {
     "end_time": "2021-02-08T15:17:23.548091Z",
     "start_time": "2021-02-08T15:17:23.536088Z"
    }
   },
   "outputs": [],
   "source": [
    "from IPython.core.interactiveshell import InteractiveShell\n",
    "import pandas as pd\n",
    "import numpy as np\n",
    "import os\n",
    "import random\n",
    "import tqdm\n",
    "from typing import Union\n",
    "\n",
    "import matplotlib.pyplot as plt\n",
    "\n",
    "%matplotlib inline\n",
    "plt.rcParams['figure.figsize'] = [20, 12]\n",
    "\n",
    "InteractiveShell.ast_node_interactivity = \"all\""
   ]
  },
  {
   "cell_type": "code",
   "execution_count": 2,
   "metadata": {
    "ExecuteTime": {
     "end_time": "2021-02-08T14:32:35.289676Z",
     "start_time": "2021-02-08T14:32:35.252645Z"
    }
   },
   "outputs": [],
   "source": [
    "!cd C:\\Users\\Josef\\Google Drive\\Uni\\Master\\3 Wintersemester 20-21\\Seminar Information Systems\\Contribution"
   ]
  },
  {
   "cell_type": "code",
   "execution_count": 3,
   "metadata": {
    "ExecuteTime": {
     "end_time": "2021-02-08T14:32:35.802068Z",
     "start_time": "2021-02-08T14:32:35.785065Z"
    }
   },
   "outputs": [],
   "source": [
    "AMPds_PATH = \"C:/Users/Josef/Google Drive/Uni/Master/3 Wintersemester 20-21/Seminar Information Systems/Contribution/data/AMPds/\""
   ]
  },
  {
   "cell_type": "code",
   "execution_count": 290,
   "metadata": {
    "ExecuteTime": {
     "end_time": "2021-02-10T00:18:06.506730Z",
     "start_time": "2021-02-10T00:18:06.493727Z"
    }
   },
   "outputs": [],
   "source": [
    "# TODO: Implement window length\n",
    "\n",
    "class DataStreamerNilm:\n",
    "    \"\"\"Returns batches of a given dataset.\n",
    "\n",
    "    Takes a given dataset, optionally enriches it with additional data and \n",
    "    returns an iterator over that dataset with the given batch size. Note that\n",
    "    this function applies no preprocessing, so the input data needs to be \n",
    "    processed beforehand.\n",
    "    \"\"\"\n",
    "\n",
    "    def __init__(\n",
    "        self,\n",
    "        dataset,\n",
    "        mains_col: str,\n",
    "        appliance_cols: Union[str, list],\n",
    "        batch_size: int = 8192,\n",
    "        window_size: int = 1,\n",
    "        shuffle: bool = False,\n",
    "        chunksize: int = -1,\n",
    "        random_state: int = None\n",
    "    ):\n",
    "        \"\"\"Initialize NILM data streamer.\n",
    "\n",
    "            Args:\n",
    "            dataset: pd.DataFrame of mains and appliance data.\n",
    "              TODO: Load file from disk.\n",
    "            mains_col: Name of the columns containing the mains readings.\n",
    "            appliance_col: Either single name or list of appliance names to \n",
    "              return.\n",
    "            batch_size: Number of datapoints returned.\n",
    "            window_size: In case sequential training data is needed, each \n",
    "              batch item consists of a time window with given length. Leave at \n",
    "              1 to return independent singular observations.\n",
    "            shuffle: Shuffle data before yielding. If window length is given,\n",
    "              the data is first split into window-sized continuous chunks and\n",
    "              then shuffled to preserve order.\n",
    "              TODO: How to handle this with window batches.\n",
    "            chunksize: Currently not implemented. Number of observations to \n",
    "              load from disk.\n",
    "              TODO: If file is loaded from memory, enable chunkwise loading.\n",
    "            random_state: Use to get reproducable shuffling results.\n",
    "\n",
    "        Yields:\n",
    "            An iterable over the input dataset.\n",
    "        \"\"\"\n",
    "\n",
    "        self.mains_col = mains_col\n",
    "        self.appliance_cols = appliance_cols\n",
    "        self.batch_size = batch_size\n",
    "        self.window_size = window_size\n",
    "        self.shuffle = shuffle\n",
    "        self.chunksize = chunksize\n",
    "        self.random_state = random_state\n",
    "        if self.random_state:\n",
    "            np.random.seed(self.random_state)\n",
    "        \n",
    "        \n",
    "        # We only need to keep mains + selected appliances in memory\n",
    "        if type(appliance_cols) is str:\n",
    "            self.dataset = dataset.filter([mains_col, appliance_cols])\n",
    "        else:\n",
    "            self.dataset = dataset.filter([mains_col] + appliance_cols)\n",
    "        \n",
    "        self.reset_iterator(self.dataset)\n",
    "        \n",
    "    def generate_batch(self):\n",
    "        target, features = next(self.dataset_iterator)\n",
    "        return target, features\n",
    "\n",
    "    def _dataset_to_list(self, data: pd.DataFrame, mains_col: str):\n",
    "        # Steps:\n",
    "        # 1 Split into rows or chunks\n",
    "        # 2 Create numpy arrays with format\n",
    "        # batch_size x window_length x appliances/data\n",
    "\n",
    "        mains = data[mains_col].values\n",
    "        appliances = data.drop(columns=[mains_col])\n",
    "\n",
    "    def _dataset_iterator(self, data):\n",
    "        \"\"\"\n",
    "        Expects \n",
    "        \"\"\"\n",
    "        for batch in data:\n",
    "            yield batch\n",
    "\n",
    "    def _fill_cache():\n",
    "        raise NotImplementedError\n",
    "\n",
    "    def reset_iterator(self, data: pd.DataFrame) -> None:\n",
    "        \"\"\"Reset data streamer and empty sample cache\"\"\"\n",
    "        df_length_original, n_cols = data.shape\n",
    "\n",
    "        if self.window_size > 1:\n",
    "            # A bit hacky, but to make the reshape work we cut off a small part\n",
    "            # at the end so the dataset nicely divides into window_sized parts\n",
    "            cutoff = df_length_original % self.window_size\n",
    "            if cutoff > 0:\n",
    "                data = data[:-cutoff]\n",
    "        df_length = data.shape[0]\n",
    "        n_splits = df_length // self.window_size\n",
    "\n",
    "        # Reshape the data into window_sized parts\n",
    "        data = data.to_numpy().reshape((n_splits, self.window_size, n_cols))\n",
    "\n",
    "        if self.shuffle:\n",
    "            np.random.shuffle(data)\n",
    "        \n",
    "        # There might be a better way to make sure the data exactly divides into\n",
    "        # the given amount of batches, but probably not an issue with sufficient\n",
    "        # training samples.\n",
    "        batch_cutoff = n_splits % self.batch_size\n",
    "        if batch_cutoff > 0:\n",
    "            data = data[:-batch_cutoff]\n",
    "        \n",
    "        # Now separate the shuffled and windowed observations into target and\n",
    "        # feature lists.\n",
    "        # TODO: Maybe this step can be done before and both lists can instead\n",
    "        # be shuffled separately with same seeds.\n",
    "        target_list = []\n",
    "        feature_list = []\n",
    "        for window in data:\n",
    "            target, features = np.hsplit(window,[1])\n",
    "            target_list.append(target)\n",
    "            feature_list.append(features)\n",
    "        \n",
    "        # Finally split the data into batches, consisting of a list of target\n",
    "        # windows and a list of corresponding feature windows.\n",
    "        n_batches = len(target_list) // self.batch_size\n",
    "        batches = []\n",
    "        \n",
    "        # TODO: Create batch-indexes in a nicer way\n",
    "        for i in range(n_batches):\n",
    "            batches.append([target_list[i*self.batch_size:i*self.batch_size+self.batch_size],\n",
    "                            feature_list[i*self.batch_size:i*self.batch_size+self.batch_size]])\n",
    "        \n",
    "        self.dataset_iterator = self._dataset_iterator(batches)      "
   ]
  },
  {
   "cell_type": "code",
   "execution_count": 291,
   "metadata": {
    "ExecuteTime": {
     "end_time": "2021-02-10T00:18:15.002427Z",
     "start_time": "2021-02-10T00:18:13.735430Z"
    }
   },
   "outputs": [],
   "source": [
    "ts = DataStreamerNilm(\n",
    "    dataset = amp,\n",
    "    mains_col = \"MHE\",\n",
    "    appliance_cols = [\"FGE\", \"UNE\"],\n",
    "    shuffle=False,\n",
    "    window_size=8,\n",
    "    batch_size=2)"
   ]
  },
  {
   "cell_type": "code",
   "execution_count": 289,
   "metadata": {
    "ExecuteTime": {
     "end_time": "2021-02-10T00:17:46.756333Z",
     "start_time": "2021-02-10T00:17:46.734328Z"
    }
   },
   "outputs": [
    {
     "data": {
      "text/html": [
       "<div>\n",
       "<style scoped>\n",
       "    .dataframe tbody tr th:only-of-type {\n",
       "        vertical-align: middle;\n",
       "    }\n",
       "\n",
       "    .dataframe tbody tr th {\n",
       "        vertical-align: top;\n",
       "    }\n",
       "\n",
       "    .dataframe thead th {\n",
       "        text-align: right;\n",
       "    }\n",
       "</style>\n",
       "<table border=\"1\" class=\"dataframe\">\n",
       "  <thead>\n",
       "    <tr style=\"text-align: right;\">\n",
       "      <th></th>\n",
       "      <th>MHE</th>\n",
       "      <th>FGE</th>\n",
       "      <th>UNE</th>\n",
       "    </tr>\n",
       "    <tr>\n",
       "      <th>UNIX_TS</th>\n",
       "      <th></th>\n",
       "      <th></th>\n",
       "      <th></th>\n",
       "    </tr>\n",
       "  </thead>\n",
       "  <tbody>\n",
       "    <tr>\n",
       "      <th>2012-04-01 07:00:00</th>\n",
       "      <td>873</td>\n",
       "      <td>0</td>\n",
       "      <td>138</td>\n",
       "    </tr>\n",
       "    <tr>\n",
       "      <th>2012-04-01 07:01:00</th>\n",
       "      <td>870</td>\n",
       "      <td>0</td>\n",
       "      <td>138</td>\n",
       "    </tr>\n",
       "    <tr>\n",
       "      <th>2012-04-01 07:02:00</th>\n",
       "      <td>827</td>\n",
       "      <td>0</td>\n",
       "      <td>138</td>\n",
       "    </tr>\n",
       "    <tr>\n",
       "      <th>2012-04-01 07:03:00</th>\n",
       "      <td>827</td>\n",
       "      <td>0</td>\n",
       "      <td>142</td>\n",
       "    </tr>\n",
       "    <tr>\n",
       "      <th>2012-04-01 07:04:00</th>\n",
       "      <td>729</td>\n",
       "      <td>0</td>\n",
       "      <td>45</td>\n",
       "    </tr>\n",
       "    <tr>\n",
       "      <th>2012-04-01 07:05:00</th>\n",
       "      <td>836</td>\n",
       "      <td>0</td>\n",
       "      <td>43</td>\n",
       "    </tr>\n",
       "    <tr>\n",
       "      <th>2012-04-01 07:06:00</th>\n",
       "      <td>823</td>\n",
       "      <td>0</td>\n",
       "      <td>37</td>\n",
       "    </tr>\n",
       "    <tr>\n",
       "      <th>2012-04-01 07:07:00</th>\n",
       "      <td>951</td>\n",
       "      <td>0</td>\n",
       "      <td>176</td>\n",
       "    </tr>\n",
       "    <tr>\n",
       "      <th>2012-04-01 07:08:00</th>\n",
       "      <td>925</td>\n",
       "      <td>0</td>\n",
       "      <td>152</td>\n",
       "    </tr>\n",
       "    <tr>\n",
       "      <th>2012-04-01 07:09:00</th>\n",
       "      <td>871</td>\n",
       "      <td>0</td>\n",
       "      <td>141</td>\n",
       "    </tr>\n",
       "    <tr>\n",
       "      <th>2012-04-01 07:10:00</th>\n",
       "      <td>880</td>\n",
       "      <td>0</td>\n",
       "      <td>147</td>\n",
       "    </tr>\n",
       "    <tr>\n",
       "      <th>2012-04-01 07:11:00</th>\n",
       "      <td>880</td>\n",
       "      <td>0</td>\n",
       "      <td>143</td>\n",
       "    </tr>\n",
       "    <tr>\n",
       "      <th>2012-04-01 07:12:00</th>\n",
       "      <td>880</td>\n",
       "      <td>0</td>\n",
       "      <td>150</td>\n",
       "    </tr>\n",
       "    <tr>\n",
       "      <th>2012-04-01 07:13:00</th>\n",
       "      <td>2298</td>\n",
       "      <td>0</td>\n",
       "      <td>153</td>\n",
       "    </tr>\n",
       "    <tr>\n",
       "      <th>2012-04-01 07:14:00</th>\n",
       "      <td>2625</td>\n",
       "      <td>143</td>\n",
       "      <td>144</td>\n",
       "    </tr>\n",
       "    <tr>\n",
       "      <th>2012-04-01 07:15:00</th>\n",
       "      <td>2701</td>\n",
       "      <td>130</td>\n",
       "      <td>139</td>\n",
       "    </tr>\n",
       "    <tr>\n",
       "      <th>2012-04-01 07:16:00</th>\n",
       "      <td>2735</td>\n",
       "      <td>127</td>\n",
       "      <td>143</td>\n",
       "    </tr>\n",
       "    <tr>\n",
       "      <th>2012-04-01 07:17:00</th>\n",
       "      <td>2753</td>\n",
       "      <td>127</td>\n",
       "      <td>144</td>\n",
       "    </tr>\n",
       "    <tr>\n",
       "      <th>2012-04-01 07:18:00</th>\n",
       "      <td>2742</td>\n",
       "      <td>125</td>\n",
       "      <td>163</td>\n",
       "    </tr>\n",
       "    <tr>\n",
       "      <th>2012-04-01 07:19:00</th>\n",
       "      <td>2651</td>\n",
       "      <td>124</td>\n",
       "      <td>59</td>\n",
       "    </tr>\n",
       "  </tbody>\n",
       "</table>\n",
       "</div>"
      ],
      "text/plain": [
       "                      MHE  FGE  UNE\n",
       "UNIX_TS                            \n",
       "2012-04-01 07:00:00   873    0  138\n",
       "2012-04-01 07:01:00   870    0  138\n",
       "2012-04-01 07:02:00   827    0  138\n",
       "2012-04-01 07:03:00   827    0  142\n",
       "2012-04-01 07:04:00   729    0   45\n",
       "2012-04-01 07:05:00   836    0   43\n",
       "2012-04-01 07:06:00   823    0   37\n",
       "2012-04-01 07:07:00   951    0  176\n",
       "2012-04-01 07:08:00   925    0  152\n",
       "2012-04-01 07:09:00   871    0  141\n",
       "2012-04-01 07:10:00   880    0  147\n",
       "2012-04-01 07:11:00   880    0  143\n",
       "2012-04-01 07:12:00   880    0  150\n",
       "2012-04-01 07:13:00  2298    0  153\n",
       "2012-04-01 07:14:00  2625  143  144\n",
       "2012-04-01 07:15:00  2701  130  139\n",
       "2012-04-01 07:16:00  2735  127  143\n",
       "2012-04-01 07:17:00  2753  127  144\n",
       "2012-04-01 07:18:00  2742  125  163\n",
       "2012-04-01 07:19:00  2651  124   59"
      ]
     },
     "execution_count": 289,
     "metadata": {},
     "output_type": "execute_result"
    }
   ],
   "source": [
    "ts.dataset.head(20)"
   ]
  },
  {
   "cell_type": "code",
   "execution_count": 233,
   "metadata": {
    "ExecuteTime": {
     "end_time": "2021-02-10T00:06:42.251000Z",
     "start_time": "2021-02-10T00:06:41.081737Z"
    }
   },
   "outputs": [],
   "source": [
    "amp = pd.read_csv(AMPds_PATH + \"Electricity_P.csv\")\n",
    "weather = pd.read_csv(AMPds_PATH + \"Climate_HourlyWeather.csv\")\n",
    "\n",
    "amp.set_index(pd.to_datetime(amp.UNIX_TS, unit=\"s\"), inplace=True)"
   ]
  },
  {
   "cell_type": "code",
   "execution_count": 293,
   "metadata": {
    "ExecuteTime": {
     "end_time": "2021-02-10T00:18:27.297983Z",
     "start_time": "2021-02-10T00:18:27.287989Z"
    }
   },
   "outputs": [],
   "source": [
    "y, X = ts.generate_batch()"
   ]
  },
  {
   "cell_type": "code",
   "execution_count": 296,
   "metadata": {
    "ExecuteTime": {
     "end_time": "2021-02-10T00:18:35.097285Z",
     "start_time": "2021-02-10T00:18:35.084282Z"
    }
   },
   "outputs": [
    {
     "data": {
      "text/plain": [
       "([array([[2735],\n",
       "         [2753],\n",
       "         [2742],\n",
       "         [2651],\n",
       "         [2636],\n",
       "         [2664],\n",
       "         [2664],\n",
       "         [2548]], dtype=int64),\n",
       "  array([[2555],\n",
       "         [2552],\n",
       "         [2564],\n",
       "         [2550],\n",
       "         [2570],\n",
       "         [2573],\n",
       "         [2570],\n",
       "         [2559]], dtype=int64)],\n",
       " [array([[127, 143],\n",
       "         [127, 144],\n",
       "         [125, 163],\n",
       "         [124,  59],\n",
       "         [123,  54],\n",
       "         [122,  61],\n",
       "         [122,  52],\n",
       "         [  0,  47]], dtype=int64),\n",
       "  array([[ 0, 55],\n",
       "         [ 0, 56],\n",
       "         [ 0, 64],\n",
       "         [ 0, 53],\n",
       "         [10, 54],\n",
       "         [ 9, 53],\n",
       "         [ 0, 64],\n",
       "         [ 0, 60]], dtype=int64)])"
      ]
     },
     "execution_count": 296,
     "metadata": {},
     "output_type": "execute_result"
    }
   ],
   "source": [
    "y, X"
   ]
  },
  {
   "cell_type": "code",
   "execution_count": 167,
   "metadata": {
    "ExecuteTime": {
     "end_time": "2021-02-09T23:32:50.233797Z",
     "start_time": "2021-02-09T23:32:50.228795Z"
    }
   },
   "outputs": [
    {
     "data": {
      "text/plain": [
       "array([[[ 925,    0,    0],\n",
       "        [ 871,    0,    0],\n",
       "        [ 880,    0,    0],\n",
       "        [ 880,    0,    0],\n",
       "        [2735,  127,    0]],\n",
       "\n",
       "       [[2753,  127,    0],\n",
       "        [2742,  125,    0],\n",
       "        [2651,  124,    0],\n",
       "        [ 880,    0,    0],\n",
       "        [2298,    0,    0]],\n",
       "\n",
       "       [[2625,  143,    0],\n",
       "        [2701,  130,    0],\n",
       "        [ 873,    0,    0],\n",
       "        [ 870,    0,    0],\n",
       "        [ 827,    0,    0]],\n",
       "\n",
       "       [[ 827,    0,    0],\n",
       "        [ 729,    0,    0],\n",
       "        [ 836,    0,    0],\n",
       "        [ 823,    0,    0],\n",
       "        [ 951,    0,    0]]], dtype=int64)"
      ]
     },
     "execution_count": 167,
     "metadata": {},
     "output_type": "execute_result"
    }
   ],
   "source": [
    "res"
   ]
  },
  {
   "cell_type": "code",
   "execution_count": 191,
   "metadata": {
    "ExecuteTime": {
     "end_time": "2021-02-09T23:36:36.946896Z",
     "start_time": "2021-02-09T23:36:36.932894Z"
    }
   },
   "outputs": [
    {
     "data": {
      "text/plain": [
       "[array([[ 925],\n",
       "        [ 871],\n",
       "        [ 880],\n",
       "        [ 880],\n",
       "        [2735]], dtype=int64),\n",
       " array([[  0,   0],\n",
       "        [  0,   0],\n",
       "        [  0,   0],\n",
       "        [  0,   0],\n",
       "        [127,   0]], dtype=int64)]"
      ]
     },
     "execution_count": 191,
     "metadata": {},
     "output_type": "execute_result"
    }
   ],
   "source": [
    "arr = res[0]\n",
    "np.hsplit(arr, [1])"
   ]
  },
  {
   "cell_type": "code",
   "execution_count": 206,
   "metadata": {
    "ExecuteTime": {
     "end_time": "2021-02-09T23:48:15.904578Z",
     "start_time": "2021-02-09T23:48:15.898577Z"
    }
   },
   "outputs": [],
   "source": [
    "y_list = []\n",
    "X_list = []\n",
    "for i in res:\n",
    "    y, X  = np.hsplit(i, [1])\n",
    "    y_list.append(y)\n",
    "    X_list.append(X)"
   ]
  },
  {
   "cell_type": "code",
   "execution_count": 108,
   "metadata": {
    "ExecuteTime": {
     "end_time": "2021-02-09T19:25:49.408841Z",
     "start_time": "2021-02-09T19:25:49.403841Z"
    }
   },
   "outputs": [
    {
     "data": {
      "text/plain": [
       "array([[ 873,    0,    0],\n",
       "       [ 870,    0,    0],\n",
       "       [ 827,    0,    0],\n",
       "       [ 827,    0,    0],\n",
       "       [ 729,    0,    0],\n",
       "       [ 836,    0,    0],\n",
       "       [ 823,    0,    0],\n",
       "       [ 951,    0,    0],\n",
       "       [ 925,    0,    0],\n",
       "       [ 871,    0,    0],\n",
       "       [ 880,    0,    0],\n",
       "       [ 880,    0,    0],\n",
       "       [ 880,    0,    0],\n",
       "       [2298,    0,    0],\n",
       "       [2625,  143,    0],\n",
       "       [2701,  130,    0],\n",
       "       [2735,  127,    0],\n",
       "       [2753,  127,    0],\n",
       "       [2742,  125,    0],\n",
       "       [2651,  124,    0]], dtype=int64)"
      ]
     },
     "execution_count": 108,
     "metadata": {},
     "output_type": "execute_result"
    }
   ],
   "source": [
    "f = ts.dataset.head(20)\n",
    "batch_size = 4\n",
    "f.to_numpy()"
   ]
  },
  {
   "cell_type": "code",
   "execution_count": 159,
   "metadata": {
    "ExecuteTime": {
     "end_time": "2021-02-09T23:26:15.079697Z",
     "start_time": "2021-02-09T23:26:15.060693Z"
    }
   },
   "outputs": [
    {
     "data": {
      "text/plain": [
       "array([[[ 925,    0,    0],\n",
       "        [ 871,    0,    0],\n",
       "        [ 880,    0,    0],\n",
       "        [ 880,    0,    0],\n",
       "        [2735,  127,    0]],\n",
       "\n",
       "       [[2753,  127,    0],\n",
       "        [2742,  125,    0],\n",
       "        [2651,  124,    0],\n",
       "        [ 880,    0,    0],\n",
       "        [2298,    0,    0]]], dtype=int64)"
      ]
     },
     "execution_count": 159,
     "metadata": {},
     "output_type": "execute_result"
    }
   ],
   "source": [
    "res = f.to_numpy().reshape((4, 5, -1))\n",
    "res[:-2]"
   ]
  },
  {
   "cell_type": "code",
   "execution_count": 163,
   "metadata": {
    "ExecuteTime": {
     "end_time": "2021-02-09T23:27:13.981607Z",
     "start_time": "2021-02-09T23:27:13.978616Z"
    }
   },
   "outputs": [],
   "source": [
    "res1 = res.reshape((-1, 2, 5, 3))"
   ]
  },
  {
   "cell_type": "code",
   "execution_count": 204,
   "metadata": {
    "ExecuteTime": {
     "end_time": "2021-02-09T23:44:44.252548Z",
     "start_time": "2021-02-09T23:44:44.238545Z"
    }
   },
   "outputs": [],
   "source": [
    "batches = [l[i:i+2] for i in range(len(l)//2)]"
   ]
  },
  {
   "cell_type": "code",
   "execution_count": 205,
   "metadata": {
    "ExecuteTime": {
     "end_time": "2021-02-09T23:44:48.498729Z",
     "start_time": "2021-02-09T23:44:48.490728Z"
    }
   },
   "outputs": [
    {
     "data": {
      "text/plain": [
       "[[array([[ 925],\n",
       "         [ 871],\n",
       "         [ 880],\n",
       "         [ 880],\n",
       "         [2735]], dtype=int64),\n",
       "  array([[  0,   0],\n",
       "         [  0,   0],\n",
       "         [  0,   0],\n",
       "         [  0,   0],\n",
       "         [127,   0]], dtype=int64)],\n",
       " [array([[2753],\n",
       "         [2742],\n",
       "         [2651],\n",
       "         [ 880],\n",
       "         [2298]], dtype=int64),\n",
       "  array([[127,   0],\n",
       "         [125,   0],\n",
       "         [124,   0],\n",
       "         [  0,   0],\n",
       "         [  0,   0]], dtype=int64)]]"
      ]
     },
     "execution_count": 205,
     "metadata": {},
     "output_type": "execute_result"
    }
   ],
   "source": [
    "batches[0]"
   ]
  },
  {
   "cell_type": "code",
   "execution_count": 82,
   "metadata": {
    "ExecuteTime": {
     "end_time": "2021-02-09T16:41:54.387845Z",
     "start_time": "2021-02-09T16:41:54.373841Z"
    }
   },
   "outputs": [
    {
     "data": {
      "text/html": [
       "<div>\n",
       "<style scoped>\n",
       "    .dataframe tbody tr th:only-of-type {\n",
       "        vertical-align: middle;\n",
       "    }\n",
       "\n",
       "    .dataframe tbody tr th {\n",
       "        vertical-align: top;\n",
       "    }\n",
       "\n",
       "    .dataframe thead th {\n",
       "        text-align: right;\n",
       "    }\n",
       "</style>\n",
       "<table border=\"1\" class=\"dataframe\">\n",
       "  <thead>\n",
       "    <tr style=\"text-align: right;\">\n",
       "      <th></th>\n",
       "      <th>MHE</th>\n",
       "    </tr>\n",
       "    <tr>\n",
       "      <th>UNIX_TS</th>\n",
       "      <th></th>\n",
       "    </tr>\n",
       "  </thead>\n",
       "  <tbody>\n",
       "    <tr>\n",
       "      <th>2012-04-01 07:00:00</th>\n",
       "      <td>873</td>\n",
       "    </tr>\n",
       "    <tr>\n",
       "      <th>2012-04-01 07:01:00</th>\n",
       "      <td>870</td>\n",
       "    </tr>\n",
       "    <tr>\n",
       "      <th>2012-04-01 07:02:00</th>\n",
       "      <td>827</td>\n",
       "    </tr>\n",
       "    <tr>\n",
       "      <th>2012-04-01 07:03:00</th>\n",
       "      <td>827</td>\n",
       "    </tr>\n",
       "    <tr>\n",
       "      <th>2012-04-01 07:04:00</th>\n",
       "      <td>729</td>\n",
       "    </tr>\n",
       "    <tr>\n",
       "      <th>...</th>\n",
       "      <td>...</td>\n",
       "    </tr>\n",
       "    <tr>\n",
       "      <th>2014-04-01 06:55:00</th>\n",
       "      <td>352</td>\n",
       "    </tr>\n",
       "    <tr>\n",
       "      <th>2014-04-01 06:56:00</th>\n",
       "      <td>340</td>\n",
       "    </tr>\n",
       "    <tr>\n",
       "      <th>2014-04-01 06:57:00</th>\n",
       "      <td>347</td>\n",
       "    </tr>\n",
       "    <tr>\n",
       "      <th>2014-04-01 06:58:00</th>\n",
       "      <td>352</td>\n",
       "    </tr>\n",
       "    <tr>\n",
       "      <th>2014-04-01 06:59:00</th>\n",
       "      <td>353</td>\n",
       "    </tr>\n",
       "  </tbody>\n",
       "</table>\n",
       "<p>1051200 rows × 1 columns</p>\n",
       "</div>"
      ],
      "text/plain": [
       "                     MHE\n",
       "UNIX_TS                 \n",
       "2012-04-01 07:00:00  873\n",
       "2012-04-01 07:01:00  870\n",
       "2012-04-01 07:02:00  827\n",
       "2012-04-01 07:03:00  827\n",
       "2012-04-01 07:04:00  729\n",
       "...                  ...\n",
       "2014-04-01 06:55:00  352\n",
       "2014-04-01 06:56:00  340\n",
       "2014-04-01 06:57:00  347\n",
       "2014-04-01 06:58:00  352\n",
       "2014-04-01 06:59:00  353\n",
       "\n",
       "[1051200 rows x 1 columns]"
      ]
     },
     "execution_count": 82,
     "metadata": {},
     "output_type": "execute_result"
    }
   ],
   "source": [
    "amp.filter([\"MHE\"])\n"
   ]
  },
  {
   "cell_type": "code",
   "execution_count": 48,
   "metadata": {
    "ExecuteTime": {
     "end_time": "2021-02-08T15:37:32.339997Z",
     "start_time": "2021-02-08T15:37:32.329995Z"
    }
   },
   "outputs": [
    {
     "data": {
      "text/plain": [
       "[[1, 2, 3], 'asdf']"
      ]
     },
     "execution_count": 48,
     "metadata": {},
     "output_type": "execute_result"
    }
   ],
   "source": [
    "t = [1, 2, 3]\n",
    "#t = \"cvx\"\n",
    "s = \"asdf\"\n",
    "[x for x in [t] + [s]]"
   ]
  },
  {
   "cell_type": "code",
   "execution_count": 56,
   "metadata": {
    "ExecuteTime": {
     "end_time": "2021-02-08T15:40:59.497991Z",
     "start_time": "2021-02-08T15:40:59.490990Z"
    }
   },
   "outputs": [
    {
     "data": {
      "text/plain": [
       "['asdf', 1, 2, 3, 'asdf', 'asdf']"
      ]
     },
     "execution_count": 56,
     "metadata": {},
     "output_type": "execute_result"
    }
   ],
   "source": [
    "[s] + t"
   ]
  }
 ],
 "metadata": {
  "kernelspec": {
   "display_name": "Python 3",
   "language": "python",
   "name": "python3"
  },
  "language_info": {
   "codemirror_mode": {
    "name": "ipython",
    "version": 3
   },
   "file_extension": ".py",
   "mimetype": "text/x-python",
   "name": "python",
   "nbconvert_exporter": "python",
   "pygments_lexer": "ipython3",
   "version": "3.7.6"
  },
  "toc": {
   "base_numbering": 1,
   "nav_menu": {},
   "number_sections": true,
   "sideBar": true,
   "skip_h1_title": false,
   "title_cell": "Table of Contents",
   "title_sidebar": "Contents",
   "toc_cell": false,
   "toc_position": {},
   "toc_section_display": true,
   "toc_window_display": false
  },
  "varInspector": {
   "cols": {
    "lenName": 16,
    "lenType": 16,
    "lenVar": 40
   },
   "kernels_config": {
    "python": {
     "delete_cmd_postfix": "",
     "delete_cmd_prefix": "del ",
     "library": "var_list.py",
     "varRefreshCmd": "print(var_dic_list())"
    },
    "r": {
     "delete_cmd_postfix": ") ",
     "delete_cmd_prefix": "rm(",
     "library": "var_list.r",
     "varRefreshCmd": "cat(var_dic_list()) "
    }
   },
   "types_to_exclude": [
    "module",
    "function",
    "builtin_function_or_method",
    "instance",
    "_Feature"
   ],
   "window_display": false
  }
 },
 "nbformat": 4,
 "nbformat_minor": 4
}
