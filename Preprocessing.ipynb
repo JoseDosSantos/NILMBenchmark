{
 "cells": [
  {
   "cell_type": "markdown",
   "metadata": {},
   "source": [
    "# Read first\n"
   ]
  },
  {
   "cell_type": "code",
   "execution_count": 1,
   "metadata": {
    "ExecuteTime": {
     "end_time": "2021-03-12T11:24:37.719513Z",
     "start_time": "2021-03-12T11:24:37.044944Z"
    }
   },
   "outputs": [],
   "source": [
    "import json\n",
    "import glob\n",
    "from selenium.webdriver.support import expected_conditions as EC\n",
    "from selenium.webdriver.support.ui import WebDriverWait\n",
    "from selenium.webdriver.common.by import By\n",
    "from selenium import webdriver\n",
    "from IPython.core.interactiveshell import InteractiveShell\n",
    "from datetime import date, timedelta, datetime\n",
    "from tqdm.auto import tqdm\n",
    "import matplotlib\n",
    "import matplotlib.pyplot as plt\n",
    "import numpy as np\n",
    "import pandas as pd\n",
    "# disable chained assignments\n",
    "pd.options.mode.chained_assignment = None\n",
    "\n",
    "\n",
    "plt.rcParams['figure.figsize'] = [20, 12]\n",
    "\n",
    "\n",
    "# Make Jupyter output multiple results without explicit print statements (see https://www.dataquest.io/blog/jupyter-notebook-tips-tricks-shortcuts/)\n",
    "InteractiveShell.ast_node_interactivity = \"all\""
   ]
  },
  {
   "cell_type": "markdown",
   "metadata": {},
   "source": [
    "# Helper Functions"
   ]
  },
  {
   "cell_type": "code",
   "execution_count": 3,
   "metadata": {
    "ExecuteTime": {
     "end_time": "2021-03-11T11:35:21.063440Z",
     "start_time": "2021-03-11T11:35:21.046436Z"
    },
    "scrolled": false
   },
   "outputs": [],
   "source": [
    "def clean_weather_data(data, date):\n",
    "    # Select relevant columns (Condition is currently not used)\n",
    "    columns = [\"Time\", \"Temperature\", \"Humidity\", \"Condition\"]\n",
    "    \n",
    "    try:\n",
    "        selected_data = data[columns].dropna()\n",
    "    except:\n",
    "        try: \n",
    "            selected_data = data[0][columns].dropna()\n",
    "        except Exception as e:\n",
    "            print(date)\n",
    "            raise e\n",
    "            \n",
    "    # Create a list of the correct dates (First two rows belong to previous day)\n",
    "    n_rows = len(selected_data)\n",
    "    date_list = [str((pd.to_datetime(date) - timedelta(1)).date())] * 2 \\\n",
    "                + [str(pd.to_datetime(date).date())] * (n_rows-2)\n",
    "    selected_data[\"Date\"] = date_list\n",
    "    \n",
    "    # Combine the dates and the times into one timestamp\n",
    "    selected_data[\"Datetime\"] = pd.to_datetime(selected_data.Date + \" \" + \n",
    "                                               selected_data.Time)\n",
    "    \n",
    "    # Drop now unnecessary columns and set index\n",
    "    selected_data.drop([\"Time\", \"Date\"], axis=1, inplace=True)\n",
    "    selected_data.set_index(\"Datetime\", inplace=True)\n",
    "    \n",
    "    # Convert Temperature from Fahrenheit to Celsius\n",
    "    selected_data[\"Temperature\"] = (((selected_data.Temperature.str.rstrip('F')\n",
    "                                     .astype(int) - 32) * (5/9))\n",
    "                                    .astype(int))\n",
    "    \n",
    "    # Convert Humidity into decimal number\n",
    "    selected_data[\"Humidity\"] = (selected_data.Humidity.str.rstrip(' %')\n",
    "                                 .astype(int) / 100)\n",
    "    \n",
    "    selected_data.columns =  map(str.lower, selected_data.columns)\n",
    "    return selected_data\n",
    "\n",
    "\n",
    "\n",
    "def scrape_weather(start, end, url):\n",
    "    # Manually scrape Wunderground for historical weather data.\n",
    "\n",
    "    days = pd.date_range(start=start,end=end)\n",
    "\n",
    "    driver = webdriver.Chrome('misc/chromedriver')\n",
    "\n",
    "    weather = []\n",
    "\n",
    "    for day in tqdm(days):\n",
    "        date = str(day.date())\n",
    "        current_url = url + date\n",
    "        driver.get(current_url)\n",
    "        tables = WebDriverWait(driver,2000).until(EC.presence_of_all_elements_located((By.CSS_SELECTOR, \"table\")))\n",
    "        \n",
    "        # Ugly I know, but it works for now. Sometimes, the table structure is\n",
    "        # different for some reason, so we catch those cases.\n",
    "        try:\n",
    "            table = pd.read_html(tables[1].get_attribute('outerHTML'))\n",
    "        except:\n",
    "            try:\n",
    "                table = pd.read_html(tables[0].get_attribute('outerHTML'))\n",
    "            except Exception as e:\n",
    "                print(date)\n",
    "                raise e\n",
    "\n",
    "        weather.append(clean_weather_data(table[0], date))\n",
    "\n",
    "    driver.close()\n",
    "\n",
    "    df = pd.concat(weather)\n",
    "    return df"
   ]
  },
  {
   "cell_type": "code",
   "execution_count": 4,
   "metadata": {
    "ExecuteTime": {
     "end_time": "2021-03-11T11:35:23.524123Z",
     "start_time": "2021-03-11T11:35:23.509120Z"
    }
   },
   "outputs": [],
   "source": [
    "def read_dir(path, name=\"value\", usecols=None, header=None):\n",
    "    print(f\"Reading directory {path} ...\", flush=True)\n",
    "    all_files = glob.glob(path + \"/*.csv\")\n",
    "\n",
    "    df_list = []\n",
    "\n",
    "    for filename in tqdm(all_files):\n",
    "        df = pd.read_csv(filename, \n",
    "                         header=header,\n",
    "                         usecols=usecols)\n",
    "        \n",
    "        # Extract day from filename and create Datetime Index\n",
    "        day = filename.rsplit(\"\\\\\")[-1].split('.')[0]\n",
    "        idx = pd.Series(pd.date_range(start=day, \n",
    "                                      freq=\"1S\", \n",
    "                                      periods=86400),\n",
    "                        name=\"time\")\n",
    "        df.set_index(idx, inplace=True)\n",
    "        df_list.append(df)\n",
    "\n",
    "    out_df = pd.concat(df_list, axis=0, ignore_index=False)\n",
    "    out_df.columns=[name]\n",
    "    print(\"Directory processed successfully.\\n\")\n",
    "    return out_df"
   ]
  },
  {
   "cell_type": "code",
   "execution_count": 5,
   "metadata": {
    "ExecuteTime": {
     "end_time": "2021-03-11T11:35:24.285942Z",
     "start_time": "2021-03-11T11:35:24.273940Z"
    }
   },
   "outputs": [],
   "source": [
    "def save_compressed(file, path, name, key):\n",
    "    print(f\"Saving {name}.h5...\")\n",
    "    try:\n",
    "        file.to_hdf(\n",
    "            path_or_buf = path + name + \".h5\",\n",
    "              key=key, \n",
    "              mode=\"w\",\n",
    "              complevel=5\n",
    "        )\n",
    "        print(\"File saved successfully.\")\n",
    "    except Exception as e:\n",
    "        print(\"Something went wrong with saving. Error:\")\n",
    "        raise e"
   ]
  },
  {
   "cell_type": "code",
   "execution_count": 6,
   "metadata": {
    "ExecuteTime": {
     "end_time": "2021-03-11T11:35:25.142792Z",
     "start_time": "2021-03-11T11:35:25.130793Z"
    }
   },
   "outputs": [],
   "source": [
    "def read_compressed(path):\n",
    "    print(\"Reading file...\")\n",
    "    try:\n",
    "        df = pd.read_hdf(path)\n",
    "        return df\n",
    "    except Exception as e:\n",
    "        print(f\"Something went wrong while reading the file. Make sure {path} \"\n",
    "              \"contains a h5 with that name.\")\n",
    "        raise e"
   ]
  },
  {
   "cell_type": "code",
   "execution_count": 7,
   "metadata": {
    "ExecuteTime": {
     "end_time": "2021-03-11T11:35:25.813910Z",
     "start_time": "2021-03-11T11:35:25.808919Z"
    }
   },
   "outputs": [],
   "source": [
    "def resample_and_export(df, sampling_rate, dataset, name):\n",
    "    print(f\"Resampling {name} to {sampling_rate}...\")\n",
    "    df = df.resample(sampling_rate).mean()\n",
    "    save_compressed(\n",
    "        file=df,\n",
    "        path=\"data/\"+dataset+\"/preprocessed/\",\n",
    "        name=name+\"_\"+sampling_rate,\n",
    "        key=name\n",
    "    )"
   ]
  },
  {
   "cell_type": "code",
   "execution_count": 7,
   "metadata": {
    "ExecuteTime": {
     "end_time": "2021-03-10T19:01:47.938998Z",
     "start_time": "2021-03-10T19:01:47.923994Z"
    }
   },
   "outputs": [],
   "source": [
    "columns = [\"mains\", \"fridge\", \"oven\", \"microwave\", \"washing machine\", \"toaster\"]\n",
    "columns = [\"fridge\", \"washing machine\", \"microwave\", \"laptop computer\", \"television\"]"
   ]
  },
  {
   "cell_type": "markdown",
   "metadata": {
    "ExecuteTime": {
     "end_time": "2021-03-04T12:23:14.180088Z",
     "start_time": "2021-03-04T12:22:33.637416Z"
    },
    "heading_collapsed": true,
    "scrolled": false
   },
   "source": [
    "# DRED\n",
    "\n"
   ]
  },
  {
   "cell_type": "markdown",
   "metadata": {
    "heading_collapsed": true,
    "hidden": true
   },
   "source": [
    "## Mains"
   ]
  },
  {
   "cell_type": "code",
   "execution_count": 8,
   "metadata": {
    "ExecuteTime": {
     "end_time": "2021-03-10T19:02:16.227849Z",
     "start_time": "2021-03-10T19:01:47.939998Z"
    },
    "hidden": true
   },
   "outputs": [],
   "source": [
    "mains_DRED = pd.read_csv(\n",
    "    filepath_or_buffer=\"data/DRED/raw/Aggregated_data.csv\", \n",
    "    header=1,\n",
    "    low_memory=False,\n",
    "    index_col=None\n",
    ")\n",
    "\n",
    "mains_DRED.dropna(inplace=True)\n",
    "mains_DRED[\"time\"] = pd.to_datetime(\n",
    "    mains_DRED[\"Unnamed: 0\"].astype(str).str[:-6], \n",
    "    format='%Y-%m-%d %H:%M:%S',\n",
    "    errors='coerce'\n",
    ")\n",
    "\n",
    "mains_DRED.drop([\"Unnamed: 0\"], axis=1, inplace=True)\n",
    "mains_DRED.set_index(\"time\", inplace=True)"
   ]
  },
  {
   "cell_type": "code",
   "execution_count": 9,
   "metadata": {
    "ExecuteTime": {
     "end_time": "2021-03-10T19:02:19.280773Z",
     "start_time": "2021-03-10T19:02:16.229850Z"
    },
    "hidden": true
   },
   "outputs": [
    {
     "name": "stdout",
     "output_type": "stream",
     "text": [
      "Saving mains_preprocessed.h5...\n",
      "File saved successfully.\n"
     ]
    }
   ],
   "source": [
    "save_compressed(\n",
    "    file=mains_DRED,\n",
    "    path=\"data/DRED/preprocessed/\",\n",
    "    name=\"mains_preprocessed\",\n",
    "    key=\"mains\"\n",
    ")"
   ]
  },
  {
   "cell_type": "markdown",
   "metadata": {
    "heading_collapsed": true,
    "hidden": true
   },
   "source": [
    "## Appliances"
   ]
  },
  {
   "cell_type": "code",
   "execution_count": 10,
   "metadata": {
    "ExecuteTime": {
     "end_time": "2021-03-10T19:02:58.949980Z",
     "start_time": "2021-03-10T19:02:19.282773Z"
    },
    "hidden": true
   },
   "outputs": [],
   "source": [
    "appliances_DRED = pd.read_csv(\n",
    "    filepath_or_buffer=\"data/DRED/raw/Appliance_data.csv\", \n",
    "    header=1,\n",
    "    low_memory=False,\n",
    "    index_col=None\n",
    ")\n",
    "\n",
    "appliances_DRED.dropna(inplace=True)\n",
    "appliances_DRED[\"time\"] = pd.to_datetime(\n",
    "    appliances_DRED[\"Unnamed: 0\"].astype(str).str[:-6], \n",
    "    format='%Y-%m-%d %H:%M:%S',\n",
    "    errors='coerce'\n",
    ")\n",
    "\n",
    "appliances_DRED.drop([\"Unnamed: 0\"], axis=1, inplace=True)\n",
    "appliances_DRED.set_index(\"time\", inplace=True)"
   ]
  },
  {
   "cell_type": "code",
   "execution_count": 11,
   "metadata": {
    "ExecuteTime": {
     "end_time": "2021-03-10T19:03:13.422568Z",
     "start_time": "2021-03-10T19:02:58.951982Z"
    },
    "hidden": true
   },
   "outputs": [
    {
     "name": "stdout",
     "output_type": "stream",
     "text": [
      "Saving appliances_preprocessed.h5...\n",
      "File saved successfully.\n"
     ]
    }
   ],
   "source": [
    "save_compressed(\n",
    "    file=appliances_DRED,\n",
    "    path=\"data/DRED/preprocessed/\",\n",
    "    name=\"appliances_preprocessed\",\n",
    "    key=\"appliances\"\n",
    ")"
   ]
  },
  {
   "cell_type": "markdown",
   "metadata": {
    "heading_collapsed": true,
    "hidden": true
   },
   "source": [
    "## Weather data"
   ]
  },
  {
   "cell_type": "code",
   "execution_count": 16,
   "metadata": {
    "ExecuteTime": {
     "end_time": "2021-03-10T19:53:46.787655Z",
     "start_time": "2021-03-10T19:46:43.700162Z"
    },
    "hidden": true
   },
   "outputs": [
    {
     "data": {
      "application/vnd.jupyter.widget-view+json": {
       "model_id": "49415b8a0b4844639a35b069930d9bb9",
       "version_major": 2,
       "version_minor": 0
      },
      "text/plain": [
       "  0%|          | 0/154 [00:00<?, ?it/s]"
      ]
     },
     "metadata": {},
     "output_type": "display_data"
    }
   ],
   "source": [
    "weather_df_DRED = scrape_weather(\n",
    "    start=\"2015-07-05\",\n",
    "    end=\"2015-12-05\",\n",
    "    url='https://www.wunderground.com/history/daily/nl/rotterdam/EHRD/date/'\n",
    ")"
   ]
  },
  {
   "cell_type": "code",
   "execution_count": 18,
   "metadata": {
    "ExecuteTime": {
     "end_time": "2021-03-10T19:54:05.794177Z",
     "start_time": "2021-03-10T19:54:02.363398Z"
    },
    "hidden": true
   },
   "outputs": [
    {
     "name": "stdout",
     "output_type": "stream",
     "text": [
      "Saving weather_scraped.h5...\n",
      "File saved successfully.\n",
      "Saving weather_preprocessed_1s.h5...\n",
      "File saved successfully.\n"
     ]
    }
   ],
   "source": [
    "save_compressed(\n",
    "    file=weather_df_DRED,\n",
    "    path=\"data/DRED/preprocessed/\",\n",
    "    name=\"weather_scraped\",\n",
    "    key=\"weather\"\n",
    ")\n",
    "\n",
    "# Resample data from half hourly to 1s intervals to match mains frequency \n",
    "# for merging later. Gaps are simply filled forward.\n",
    "# Currently, condition gets lost in this process.\n",
    "\n",
    "weather_df_DRED_full = weather_df_DRED.resample('1s').median().fillna(method='ffill')\n",
    "\n",
    "save_compressed(\n",
    "    file=weather_df_DRED_full,\n",
    "    path=\"data/DRED/preprocessed/\",\n",
    "    name=\"weather_preprocessed_1s\",\n",
    "    key=\"weather\"\n",
    ")"
   ]
  },
  {
   "cell_type": "markdown",
   "metadata": {
    "heading_collapsed": true,
    "hidden": true
   },
   "source": [
    "## Occupancy"
   ]
  },
  {
   "cell_type": "code",
   "execution_count": 19,
   "metadata": {
    "ExecuteTime": {
     "end_time": "2021-03-10T19:54:09.082309Z",
     "start_time": "2021-03-10T19:54:08.281400Z"
    },
    "hidden": true
   },
   "outputs": [],
   "source": [
    "# We use the smartphones bluetooth data which indicates its connection to \n",
    "# various beacons in the house to determine when the household is occupied.\n",
    "\n",
    "bt_rssi_DRED = pd.read_csv(\n",
    "    filepath_or_buffer=\"data/DRED/raw/BT_rssi.csv\", \n",
    "    header=0,\n",
    "    low_memory=False,\n",
    "    index_col=None\n",
    ")"
   ]
  },
  {
   "cell_type": "code",
   "execution_count": 20,
   "metadata": {
    "ExecuteTime": {
     "end_time": "2021-03-10T19:54:10.056476Z",
     "start_time": "2021-03-10T19:54:09.864401Z"
    },
    "hidden": true
   },
   "outputs": [],
   "source": [
    "# We only need a connection to any beacon to determine the house occupied\n",
    "\n",
    "bt_rssi_DRED.drop_duplicates(subset=\"Time\", inplace=True)\n",
    "bt_rssi_DRED[\"Occupied\"] = 1\n",
    "\n",
    "bt_rssi_DRED[\"time\"] = pd.to_datetime(bt_rssi_DRED[\"Time\"],\n",
    "                         format='%Y-%m-%d %H:%M:%S',\n",
    "                         errors='coerce')\n",
    "bt_rssi_DRED.set_index('time', inplace=True)\n",
    "\n",
    "\n",
    "bt_rssi_DRED.drop(\n",
    "    labels=[\"Time\", \"RSSI\", \"Temperature\", \"BatteryLevel\", \"Id\", \n",
    "            \"Proximity\", \"Location\"],\n",
    "    axis=1,\n",
    "    inplace=True\n",
    ")"
   ]
  },
  {
   "cell_type": "code",
   "execution_count": 21,
   "metadata": {
    "ExecuteTime": {
     "end_time": "2021-03-10T19:54:11.580214Z",
     "start_time": "2021-03-10T19:54:10.468335Z"
    },
    "hidden": true
   },
   "outputs": [],
   "source": [
    "# Resample the data to 1 second intervals\n",
    "# Fill all gaps shorter than the minimum duration (1h), otherwise set Occupied=0\n",
    "# This gap is set manually and tries to minimize false negatives (cases where\n",
    "# the house is marked as unoccupied).\n",
    "# Selecting gaps by length: https://stackoverflow.com/a/30538371\n",
    "\n",
    "min_unoccupied_length = 3600\n",
    "\n",
    "bt_rssi_DRED_res = bt_rssi_DRED.resample(\"1s\").median()\n",
    "mask = bt_rssi_DRED_res.copy()\n",
    "grp = ((mask.notnull() != mask.shift().notnull()).cumsum())\n",
    "grp['ones'] = 1\n",
    "\n",
    "occupancy_DRED = pd.DataFrame(\n",
    "    data = ((grp.groupby(\"Occupied\")['ones'].transform('count')\n",
    "             < min_unoccupied_length)| bt_rssi_DRED_res[\"Occupied\"].notnull()\n",
    "           ).astype(int),\n",
    "    columns=[\"occupied\"])"
   ]
  },
  {
   "cell_type": "markdown",
   "metadata": {
    "heading_collapsed": true,
    "hidden": true
   },
   "source": [
    "## Join everything together"
   ]
  },
  {
   "cell_type": "code",
   "execution_count": 22,
   "metadata": {
    "ExecuteTime": {
     "end_time": "2021-03-10T19:54:34.292093Z",
     "start_time": "2021-03-10T19:54:13.091291Z"
    },
    "hidden": true
   },
   "outputs": [],
   "source": [
    "data_DRED = mains_DRED.join(\n",
    "    other=[appliances_DRED, weather_df_DRED_full, occupancy_DRED],\n",
    "    lsuffix='_l', \n",
    "    rsuffix='_r'\n",
    ").dropna()"
   ]
  },
  {
   "cell_type": "code",
   "execution_count": 23,
   "metadata": {
    "ExecuteTime": {
     "end_time": "2021-03-10T19:54:54.646683Z",
     "start_time": "2021-03-10T19:54:34.645674Z"
    },
    "hidden": true
   },
   "outputs": [
    {
     "name": "stdout",
     "output_type": "stream",
     "text": [
      "Saving dred_preprocessed.h5...\n",
      "File saved successfully.\n"
     ]
    }
   ],
   "source": [
    "save_compressed(\n",
    "    file=data_DRED,\n",
    "    path=\"data/DRED/preprocessed/\",\n",
    "    name=\"dred_preprocessed\",\n",
    "    key=\"data\"\n",
    ")"
   ]
  },
  {
   "cell_type": "markdown",
   "metadata": {
    "heading_collapsed": true,
    "hidden": true
   },
   "source": [
    "## Export aggregated data"
   ]
  },
  {
   "cell_type": "code",
   "execution_count": 24,
   "metadata": {
    "ExecuteTime": {
     "end_time": "2021-03-10T19:55:00.348842Z",
     "start_time": "2021-03-10T19:54:54.887739Z"
    },
    "hidden": true
   },
   "outputs": [
    {
     "name": "stdout",
     "output_type": "stream",
     "text": [
      "Saving dred_6s.h5...\n",
      "File saved successfully.\n"
     ]
    }
   ],
   "source": [
    "data_DRED_6s = data_DRED.resample(\"6s\").mean()\n",
    "\n",
    "save_compressed(\n",
    "    file=data_DRED_6s,\n",
    "    path=\"data/DRED/preprocessed/\",\n",
    "    name=\"dred_6s\",\n",
    "    key=\"dred\"\n",
    ")"
   ]
  },
  {
   "cell_type": "code",
   "execution_count": 25,
   "metadata": {
    "ExecuteTime": {
     "end_time": "2021-03-10T19:55:01.885768Z",
     "start_time": "2021-03-10T19:55:00.666633Z"
    },
    "hidden": true
   },
   "outputs": [
    {
     "name": "stdout",
     "output_type": "stream",
     "text": [
      "Saving dred_1min.h5...\n",
      "File saved successfully.\n"
     ]
    }
   ],
   "source": [
    "data_DRED_1min = data_DRED.resample(\"1min\").mean()\n",
    "\n",
    "save_compressed(\n",
    "    file=data_DRED_1min,\n",
    "    path=\"data/DRED/preprocessed/\",\n",
    "    name=\"dred_1min\",\n",
    "    key=\"dred\"\n",
    ")"
   ]
  },
  {
   "cell_type": "markdown",
   "metadata": {
    "heading_collapsed": true,
    "hidden": true
   },
   "source": [
    "## Cleanup"
   ]
  },
  {
   "cell_type": "code",
   "execution_count": 26,
   "metadata": {
    "ExecuteTime": {
     "end_time": "2021-03-10T19:55:11.410306Z",
     "start_time": "2021-03-10T19:55:11.106239Z"
    },
    "hidden": true
   },
   "outputs": [],
   "source": [
    "del (\n",
    "    mains_DRED,\n",
    "    appliances_DRED,\n",
    "    weather_df_DRED, weather_df_DRED_full,\n",
    "    bt_rssi_DRED, bt_rssi_DRED_res, mask, grp,\n",
    "    occupancy_DRED,\n",
    "    data_DRED,\n",
    "    data_DRED_6s,\n",
    "    data_DRED_1min\n",
    ")"
   ]
  },
  {
   "cell_type": "markdown",
   "metadata": {
    "heading_collapsed": true
   },
   "source": [
    "# ECO"
   ]
  },
  {
   "cell_type": "code",
   "execution_count": 27,
   "metadata": {
    "ExecuteTime": {
     "end_time": "2021-03-10T19:55:25.368710Z",
     "start_time": "2021-03-10T19:55:25.350705Z"
    },
    "hidden": true
   },
   "outputs": [],
   "source": [
    "# Reusable function to process occupancy in ECO dataset\n",
    "\n",
    "def process_occupancy(occ):\n",
    "    # Create time index\n",
    "    occupancy = occ.copy()\n",
    "    occupancy[\"time\"] = occupancy[\"Unnamed: 0\"].astype(str) + ' '\\\n",
    "        + occupancy[\"variable\"].str.strip(\"'\")\n",
    "\n",
    "    occupancy[\"time\"] = pd.to_datetime(occupancy[\"time\"],\n",
    "                                       format=\"%d-%b-%Y %H:%M:%S\")\n",
    "\n",
    "    occupancy.set_index(\"time\", inplace=True)\n",
    "    occupancy.drop([\"Unnamed: 0\", \"variable\"], axis=1, inplace=True)\n",
    "    occupancy.sort_index(inplace=True)\n",
    "\n",
    "    # For consistency with DRED, make sure there are not gaps shorter than 30\n",
    "    # minutes.\n",
    "    min_unoccupied_length = 3600\n",
    "\n",
    "    mask = occupancy.copy()\n",
    "    grp = ((mask.notnull() != mask.shift().notnull()).cumsum())\n",
    "    grp['ones'] = 1\n",
    "\n",
    "    occupancy = pd.DataFrame(((grp.groupby(\"value\")['ones'].transform('count')\n",
    "                               < min_unoccupied_length)\n",
    "                              | occupancy[\"value\"] == 1).astype(int),\n",
    "                             columns=[\"occupied\"])\n",
    "    return occupancy"
   ]
  },
  {
   "cell_type": "markdown",
   "metadata": {
    "hidden": true
   },
   "source": [
    "## Weather"
   ]
  },
  {
   "cell_type": "code",
   "execution_count": 54,
   "metadata": {
    "ExecuteTime": {
     "end_time": "2021-03-10T20:26:59.242887Z",
     "start_time": "2021-03-10T20:25:14.716149Z"
    },
    "hidden": true
   },
   "outputs": [
    {
     "data": {
      "application/vnd.jupyter.widget-view+json": {
       "model_id": "8540941222c24c689d23fb29dffc5425",
       "version_major": 2,
       "version_minor": 0
      },
      "text/plain": [
       "  0%|          | 0/42 [00:00<?, ?it/s]"
      ]
     },
     "metadata": {},
     "output_type": "display_data"
    }
   ],
   "source": [
    "# We only scrape the days for which we also have occupancy data\n",
    "weather_summer = scrape_weather(start=\"2012-07-15\",\n",
    "                                end=\"2012-08-25\",\n",
    "                                url=\"https://www.wunderground.com/history/daily/ch/r%C3%BCmlang/LSZH/date/\")"
   ]
  },
  {
   "cell_type": "code",
   "execution_count": 55,
   "metadata": {
    "ExecuteTime": {
     "end_time": "2021-03-10T20:29:16.487770Z",
     "start_time": "2021-03-10T20:26:59.323906Z"
    },
    "hidden": true
   },
   "outputs": [
    {
     "data": {
      "application/vnd.jupyter.widget-view+json": {
       "model_id": "a61ae6680305404a85d768821dc01e28",
       "version_major": 2,
       "version_minor": 0
      },
      "text/plain": [
       "  0%|          | 0/47 [00:00<?, ?it/s]"
      ]
     },
     "metadata": {},
     "output_type": "display_data"
    }
   ],
   "source": [
    "weather_winter = scrape_weather(start=\"2012-11-24\",\n",
    "                                end=\"2013-01-09\",\n",
    "                                url=\"https://www.wunderground.com/history/daily/ch/r%C3%BCmlang/LSZH/date/\")"
   ]
  },
  {
   "cell_type": "code",
   "execution_count": 56,
   "metadata": {
    "ExecuteTime": {
     "end_time": "2021-03-10T20:29:43.058182Z",
     "start_time": "2021-03-10T20:29:39.016029Z"
    },
    "hidden": true
   },
   "outputs": [
    {
     "name": "stdout",
     "output_type": "stream",
     "text": [
      "Saving weather_scraped.h5...\n",
      "File saved successfully.\n",
      "Saving weather_preprocessed_1s.h5...\n",
      "File saved successfully.\n"
     ]
    }
   ],
   "source": [
    "weather_df_ECO = pd.concat([weather_summer, weather_winter])\n",
    "save_compressed(\n",
    "    file=weather_df_ECO, \n",
    "    path=\"data/ECO/preprocessed/\",\n",
    "    name=\"weather_scraped\",\n",
    "    key=\"weather\"\n",
    ")\n",
    "\n",
    "weather_df_ECO_full = weather_df_ECO.resample('1s').median().fillna(method='ffill')\n",
    "save_compressed(\n",
    "    file=weather_df_ECO_full, \n",
    "    path=\"data/ECO/preprocessed/\",\n",
    "    name=\"weather_preprocessed_1s\",\n",
    "    key=\"weather\"\n",
    ")"
   ]
  },
  {
   "cell_type": "code",
   "execution_count": 57,
   "metadata": {
    "ExecuteTime": {
     "end_time": "2021-03-10T20:29:43.074185Z",
     "start_time": "2021-03-10T20:29:43.060754Z"
    },
    "hidden": true
   },
   "outputs": [],
   "source": [
    "del(weather_df_ECO, weather_summer, weather_winter)"
   ]
  },
  {
   "cell_type": "markdown",
   "metadata": {
    "hidden": true
   },
   "source": [
    "## ECO House 1"
   ]
  },
  {
   "cell_type": "markdown",
   "metadata": {
    "heading_collapsed": true,
    "hidden": true
   },
   "source": [
    "### Mains"
   ]
  },
  {
   "cell_type": "code",
   "execution_count": 58,
   "metadata": {
    "ExecuteTime": {
     "end_time": "2021-03-10T20:30:17.003168Z",
     "start_time": "2021-03-10T20:29:43.076186Z"
    },
    "hidden": true
   },
   "outputs": [
    {
     "name": "stdout",
     "output_type": "stream",
     "text": [
      "Reading directory data\\ECO\\House_1\\01_sm_csv ...\n"
     ]
    },
    {
     "data": {
      "application/vnd.jupyter.widget-view+json": {
       "model_id": "3068a574960442818341b8d985bf2f68",
       "version_major": 2,
       "version_minor": 0
      },
      "text/plain": [
       "  0%|          | 0/179 [00:00<?, ?it/s]"
      ]
     },
     "metadata": {},
     "output_type": "display_data"
    },
    {
     "name": "stdout",
     "output_type": "stream",
     "text": [
      "Directory processed successfully.\n",
      "\n",
      "Saving mains01_preprocessed.h5...\n",
      "File saved successfully.\n"
     ]
    }
   ],
   "source": [
    "mains_ECO01 = read_dir(\n",
    "    path=r'data\\ECO\\House_1\\01_sm_csv',\n",
    "    name=\"mains\",\n",
    "    usecols=[0]\n",
    ")\n",
    "\n",
    "save_compressed(\n",
    "    file=mains_ECO01,\n",
    "    path=\"data/ECO/preprocessed/\",\n",
    "    name=\"mains01_preprocessed\",\n",
    "    key=\"mains\"\n",
    ")"
   ]
  },
  {
   "cell_type": "markdown",
   "metadata": {
    "heading_collapsed": true,
    "hidden": true
   },
   "source": [
    "### Fridge"
   ]
  },
  {
   "cell_type": "code",
   "execution_count": 59,
   "metadata": {
    "ExecuteTime": {
     "end_time": "2021-03-10T20:30:25.437657Z",
     "start_time": "2021-03-10T20:30:17.005168Z"
    },
    "code_folding": [],
    "hidden": true
   },
   "outputs": [
    {
     "name": "stdout",
     "output_type": "stream",
     "text": [
      "Reading directory data\\ECO\\House_1\\01_plugs_csv\\01 ...\n"
     ]
    },
    {
     "data": {
      "application/vnd.jupyter.widget-view+json": {
       "model_id": "b019a3da61fc4faf9e1b4b466c1eb717",
       "version_major": 2,
       "version_minor": 0
      },
      "text/plain": [
       "  0%|          | 0/173 [00:00<?, ?it/s]"
      ]
     },
     "metadata": {},
     "output_type": "display_data"
    },
    {
     "name": "stdout",
     "output_type": "stream",
     "text": [
      "Directory processed successfully.\n",
      "\n",
      "Saving fridge01_preprocessed.h5...\n",
      "File saved successfully.\n"
     ]
    }
   ],
   "source": [
    "fridge_ECO01 = read_dir(\n",
    "    path=r'data\\ECO\\House_1\\01_plugs_csv\\01',\n",
    "    name=\"fridge\"\n",
    ")\n",
    "\n",
    "save_compressed(\n",
    "    file=fridge_ECO01,\n",
    "    path=\"data/ECO/preprocessed/\",\n",
    "    name=\"fridge01_preprocessed\",\n",
    "    key=\"fridge\"\n",
    ")"
   ]
  },
  {
   "cell_type": "markdown",
   "metadata": {
    "heading_collapsed": true,
    "hidden": true
   },
   "source": [
    "### Washing machine"
   ]
  },
  {
   "cell_type": "code",
   "execution_count": 60,
   "metadata": {
    "ExecuteTime": {
     "end_time": "2021-03-10T20:30:32.255316Z",
     "start_time": "2021-03-10T20:30:25.439657Z"
    },
    "hidden": true
   },
   "outputs": [
    {
     "name": "stdout",
     "output_type": "stream",
     "text": [
      "Reading directory data\\ECO\\House_1\\01_plugs_csv\\05 ...\n"
     ]
    },
    {
     "data": {
      "application/vnd.jupyter.widget-view+json": {
       "model_id": "f0f533a02b3b4fc0a81dc84fc85ce55b",
       "version_major": 2,
       "version_minor": 0
      },
      "text/plain": [
       "  0%|          | 0/173 [00:00<?, ?it/s]"
      ]
     },
     "metadata": {},
     "output_type": "display_data"
    },
    {
     "name": "stdout",
     "output_type": "stream",
     "text": [
      "Directory processed successfully.\n",
      "\n",
      "Saving washing_machine01_preprocessed.h5...\n",
      "File saved successfully.\n"
     ]
    }
   ],
   "source": [
    "washing_machine_ECO01 = read_dir(\n",
    "    path=r'data\\ECO\\House_1\\01_plugs_csv\\05',\n",
    "    name=\"washing_machine\"\n",
    ")\n",
    "\n",
    "save_compressed(\n",
    "    file=washing_machine_ECO01,\n",
    "    path=\"data/ECO/preprocessed/\",\n",
    "    name=\"washing_machine01_preprocessed\",\n",
    "    key=\"washing_machine\"\n",
    ")"
   ]
  },
  {
   "cell_type": "markdown",
   "metadata": {
    "heading_collapsed": true,
    "hidden": true
   },
   "source": [
    "### Occupancy"
   ]
  },
  {
   "cell_type": "code",
   "execution_count": 61,
   "metadata": {
    "ExecuteTime": {
     "end_time": "2021-03-10T20:31:25.887777Z",
     "start_time": "2021-03-10T20:30:32.257317Z"
    },
    "hidden": true,
    "scrolled": false
   },
   "outputs": [],
   "source": [
    "occ_summer_ECO01 = pd.read_csv(\n",
    "    \"data/ECO/House_1/01_occupancy_csv/01_summer.csv\")\n",
    "occ_winter_ECO01 = pd.read_csv(\n",
    "    \"data/ECO/House_1/01_occupancy_csv/01_winter.csv\")\n",
    "\n",
    "# Unpivot occupancy data and combines dataframes\n",
    "occ_summer_ECO01 = occ_summer_ECO01.melt(id_vars=\"Unnamed: 0\")\n",
    "occ_winter_ECO01 = occ_winter_ECO01.melt(id_vars=\"Unnamed: 0\")\n",
    "occupancy_ECO01 = pd.concat([occ_summer_ECO01, occ_winter_ECO01])\n",
    "\n",
    "# Preprocess into final format\n",
    "occupancy_ECO01 = process_occupancy(occupancy_ECO01)"
   ]
  },
  {
   "cell_type": "code",
   "execution_count": 62,
   "metadata": {
    "ExecuteTime": {
     "end_time": "2021-03-10T20:31:26.696348Z",
     "start_time": "2021-03-10T20:31:25.889779Z"
    },
    "hidden": true
   },
   "outputs": [
    {
     "name": "stdout",
     "output_type": "stream",
     "text": [
      "Saving occupancy01_preprocessed.h5...\n",
      "File saved successfully.\n"
     ]
    }
   ],
   "source": [
    "save_compressed(\n",
    "    file=occupancy_ECO01,\n",
    "    path=\"data/ECO/preprocessed/\",\n",
    "    name=\"occupancy01_preprocessed\",\n",
    "    key=\"occupancy\"\n",
    ")"
   ]
  },
  {
   "cell_type": "markdown",
   "metadata": {
    "hidden": true
   },
   "source": [
    "### Export aggregated data"
   ]
  },
  {
   "cell_type": "markdown",
   "metadata": {
    "heading_collapsed": true,
    "hidden": true
   },
   "source": [
    "#### Fridge"
   ]
  },
  {
   "cell_type": "code",
   "execution_count": 63,
   "metadata": {
    "ExecuteTime": {
     "end_time": "2021-03-10T20:31:53.901225Z",
     "start_time": "2021-03-10T20:31:26.699349Z"
    },
    "hidden": true
   },
   "outputs": [
    {
     "name": "stdout",
     "output_type": "stream",
     "text": [
      "Resampling fridge to 6s...\n",
      "Saving fridge_6s.h5...\n",
      "File saved successfully.\n",
      "Resampling fridge to 1min...\n",
      "Saving fridge_1min.h5...\n",
      "File saved successfully.\n"
     ]
    }
   ],
   "source": [
    "fridge_full_ECO01 = occupancy_ECO01.join(\n",
    "    other=[fridge_ECO01, mains_ECO01, weather_df_ECO_full],\n",
    "    lsuffix='_l', rsuffix='_r'\n",
    ").dropna()\n",
    "\n",
    "# Resample 6 seconds\n",
    "resample_and_export(\n",
    "    df=fridge_full_ECO01,\n",
    "    sampling_rate=\"6s\",\n",
    "    dataset=\"ECO\",\n",
    "    name=\"fridge\")\n",
    "\n",
    "# Resample 1 minute\n",
    "resample_and_export(\n",
    "    df=fridge_full_ECO01,\n",
    "    sampling_rate=\"1min\",\n",
    "    dataset=\"ECO\",\n",
    "    name=\"fridge\")"
   ]
  },
  {
   "cell_type": "markdown",
   "metadata": {
    "heading_collapsed": true,
    "hidden": true
   },
   "source": [
    "#### Washing machine"
   ]
  },
  {
   "cell_type": "code",
   "execution_count": 64,
   "metadata": {
    "ExecuteTime": {
     "end_time": "2021-03-10T20:32:12.665985Z",
     "start_time": "2021-03-10T20:31:53.904119Z"
    },
    "hidden": true
   },
   "outputs": [
    {
     "name": "stdout",
     "output_type": "stream",
     "text": [
      "Resampling washing_machine to 6s...\n",
      "Saving washing_machine_6s.h5...\n",
      "File saved successfully.\n",
      "Resampling washing_machine to 1min...\n",
      "Saving washing_machine_1min.h5...\n",
      "File saved successfully.\n"
     ]
    }
   ],
   "source": [
    "washing_machine_full_ECO01 = occupancy_ECO01.join(\n",
    "    other=[washing_machine_ECO01, mains_ECO01, weather_df_ECO_full],\n",
    "    lsuffix='_l', rsuffix='_r'\n",
    ").dropna()\n",
    "\n",
    "# Resample 6 seconds\n",
    "resample_and_export(\n",
    "    df=washing_machine_full_ECO01,\n",
    "    sampling_rate=\"6s\",\n",
    "    dataset=\"ECO\",\n",
    "    name=\"washing_machine\")\n",
    "\n",
    "# Resample 1 minute\n",
    "resample_and_export(\n",
    "    df=washing_machine_full_ECO01,\n",
    "    sampling_rate=\"1min\",\n",
    "    dataset=\"ECO\",\n",
    "    name=\"washing_machine\")"
   ]
  },
  {
   "cell_type": "markdown",
   "metadata": {
    "heading_collapsed": true,
    "hidden": true
   },
   "source": [
    "#### All data"
   ]
  },
  {
   "cell_type": "code",
   "execution_count": 65,
   "metadata": {
    "ExecuteTime": {
     "end_time": "2021-03-10T20:32:30.711197Z",
     "start_time": "2021-03-10T20:32:12.667954Z"
    },
    "hidden": true
   },
   "outputs": [
    {
     "name": "stdout",
     "output_type": "stream",
     "text": [
      "Resampling full_data01 to 6s...\n",
      "Saving full_data01_6s.h5...\n",
      "File saved successfully.\n",
      "Resampling full_data01 to 1min...\n",
      "Saving full_data01_1min.h5...\n",
      "File saved successfully.\n"
     ]
    }
   ],
   "source": [
    "data_ECO01 = occupancy_ECO01.join(\n",
    "    other=[fridge_ECO01, washing_machine_ECO01,\n",
    "           mains_ECO01, weather_df_ECO_full],\n",
    "    lsuffix='_l', rsuffix='_r'\n",
    ").dropna()\n",
    "\n",
    "# Resample 6 seconds\n",
    "resample_and_export(\n",
    "    df=data_ECO01,\n",
    "    sampling_rate=\"6s\",\n",
    "    dataset=\"ECO\",\n",
    "    name=\"full_data01\"\n",
    ")\n",
    "\n",
    "# Resample 1 minute\n",
    "resample_and_export(\n",
    "    df=data_ECO01,\n",
    "    sampling_rate=\"1min\",\n",
    "    dataset=\"ECO\",\n",
    "    name=\"full_data01\"\n",
    ")"
   ]
  },
  {
   "cell_type": "markdown",
   "metadata": {
    "hidden": true
   },
   "source": [
    "### Cleanup\n",
    "Delete all variables no longer needed to free up RAM."
   ]
  },
  {
   "cell_type": "code",
   "execution_count": 66,
   "metadata": {
    "ExecuteTime": {
     "end_time": "2021-03-10T20:32:31.013043Z",
     "start_time": "2021-03-10T20:32:30.713197Z"
    },
    "hidden": true
   },
   "outputs": [],
   "source": [
    "# Remember: weather_df_ECO_full is still needed for other houses\n",
    "\n",
    "del(\n",
    "    mains_ECO01, \n",
    "    fridge_ECO01, fridge_full_ECO01,\n",
    "    washing_machine_ECO01, washing_machine_full_ECO01,\n",
    "    occ_summer_ECO01, occ_winter_ECO01, occupancy_ECO01,\n",
    "    data_ECO01    \n",
    "   )\n"
   ]
  },
  {
   "cell_type": "markdown",
   "metadata": {
    "hidden": true
   },
   "source": [
    "## ECO House 2"
   ]
  },
  {
   "cell_type": "markdown",
   "metadata": {
    "heading_collapsed": true,
    "hidden": true
   },
   "source": [
    "### Mains"
   ]
  },
  {
   "cell_type": "code",
   "execution_count": 67,
   "metadata": {
    "ExecuteTime": {
     "end_time": "2021-03-10T20:32:54.167138Z",
     "start_time": "2021-03-10T20:32:31.015043Z"
    },
    "hidden": true
   },
   "outputs": [
    {
     "name": "stdout",
     "output_type": "stream",
     "text": [
      "Reading directory data\\ECO\\House_2\\02_sm_csv ...\n"
     ]
    },
    {
     "data": {
      "application/vnd.jupyter.widget-view+json": {
       "model_id": "77fb26378a5f46ed8c166f70eb68f3a9",
       "version_major": 2,
       "version_minor": 0
      },
      "text/plain": [
       "  0%|          | 0/244 [00:00<?, ?it/s]"
      ]
     },
     "metadata": {},
     "output_type": "display_data"
    },
    {
     "name": "stdout",
     "output_type": "stream",
     "text": [
      "Directory processed successfully.\n",
      "\n",
      "Saving mains02_preprocessed.h5...\n",
      "File saved successfully.\n"
     ]
    }
   ],
   "source": [
    "mains_ECO02 = read_dir(\n",
    "    path=r'data\\ECO\\House_2\\02_sm_csv',\n",
    "    name=\"mains\",\n",
    "    usecols=[0]\n",
    ")\n",
    "\n",
    "save_compressed(\n",
    "    file=mains_ECO02,\n",
    "    path=\"data/ECO/preprocessed/\",\n",
    "    name=\"mains02_preprocessed\",\n",
    "    key=\"mains\"\n",
    ")"
   ]
  },
  {
   "cell_type": "markdown",
   "metadata": {
    "heading_collapsed": true,
    "hidden": true
   },
   "source": [
    "### Television"
   ]
  },
  {
   "cell_type": "code",
   "execution_count": 68,
   "metadata": {
    "ExecuteTime": {
     "end_time": "2021-03-10T20:33:02.045782Z",
     "start_time": "2021-03-10T20:32:54.169136Z"
    },
    "hidden": true
   },
   "outputs": [
    {
     "name": "stdout",
     "output_type": "stream",
     "text": [
      "Reading directory data\\ECO\\House_2\\02_plugs_csv\\11 ...\n"
     ]
    },
    {
     "data": {
      "application/vnd.jupyter.widget-view+json": {
       "model_id": "905697666c3a46bd8491d0ae020b72e2",
       "version_major": 2,
       "version_minor": 0
      },
      "text/plain": [
       "  0%|          | 0/240 [00:00<?, ?it/s]"
      ]
     },
     "metadata": {},
     "output_type": "display_data"
    },
    {
     "name": "stdout",
     "output_type": "stream",
     "text": [
      "Directory processed successfully.\n",
      "\n",
      "Saving television02_preprocessed.h5...\n",
      "File saved successfully.\n"
     ]
    }
   ],
   "source": [
    "television_ECO02 = read_dir(\n",
    "    path=r'data\\ECO\\House_2\\02_plugs_csv\\11',\n",
    "    name=\"television\"\n",
    ")\n",
    "\n",
    "save_compressed(\n",
    "    file=television_ECO02,\n",
    "    path=\"data/ECO/preprocessed/\",\n",
    "    name=\"television02_preprocessed\",\n",
    "    key=\"television\"\n",
    ")"
   ]
  },
  {
   "cell_type": "markdown",
   "metadata": {
    "heading_collapsed": true,
    "hidden": true
   },
   "source": [
    "### Laptop"
   ]
  },
  {
   "cell_type": "code",
   "execution_count": 69,
   "metadata": {
    "ExecuteTime": {
     "end_time": "2021-03-10T20:33:12.850180Z",
     "start_time": "2021-03-10T20:33:02.047782Z"
    },
    "hidden": true
   },
   "outputs": [
    {
     "name": "stdout",
     "output_type": "stream",
     "text": [
      "Reading directory data\\ECO\\House_2\\02_plugs_csv\\09 ...\n"
     ]
    },
    {
     "data": {
      "application/vnd.jupyter.widget-view+json": {
       "model_id": "91e2e69e1698425abbe888195528a950",
       "version_major": 2,
       "version_minor": 0
      },
      "text/plain": [
       "  0%|          | 0/240 [00:00<?, ?it/s]"
      ]
     },
     "metadata": {},
     "output_type": "display_data"
    },
    {
     "name": "stdout",
     "output_type": "stream",
     "text": [
      "Directory processed successfully.\n",
      "\n",
      "Saving laptop02_preprocessed.h5...\n",
      "File saved successfully.\n"
     ]
    }
   ],
   "source": [
    "laptop_ECO02 = read_dir(\n",
    "    path=r'data\\ECO\\House_2\\02_plugs_csv\\09',\n",
    "    name=\"laptop\"\n",
    ")\n",
    "\n",
    "save_compressed(\n",
    "    file=laptop_ECO02,\n",
    "    path=\"data/ECO/preprocessed/\",\n",
    "    name=\"laptop02_preprocessed\",\n",
    "    key=\"laptop\"\n",
    ")"
   ]
  },
  {
   "cell_type": "markdown",
   "metadata": {
    "heading_collapsed": true,
    "hidden": true
   },
   "source": [
    "### Stove"
   ]
  },
  {
   "cell_type": "code",
   "execution_count": 70,
   "metadata": {
    "ExecuteTime": {
     "end_time": "2021-03-10T20:33:13.786729Z",
     "start_time": "2021-03-10T20:33:12.852181Z"
    },
    "hidden": true
   },
   "outputs": [
    {
     "name": "stdout",
     "output_type": "stream",
     "text": [
      "Reading directory data\\ECO\\House_2\\02_plugs_csv\\10 ...\n"
     ]
    },
    {
     "data": {
      "application/vnd.jupyter.widget-view+json": {
       "model_id": "359c97c5debc4c8585175f9b3c9b219d",
       "version_major": 2,
       "version_minor": 0
      },
      "text/plain": [
       "  0%|          | 0/28 [00:00<?, ?it/s]"
      ]
     },
     "metadata": {},
     "output_type": "display_data"
    },
    {
     "name": "stdout",
     "output_type": "stream",
     "text": [
      "Directory processed successfully.\n",
      "\n",
      "Saving stove02_preprocessed.h5...\n",
      "File saved successfully.\n"
     ]
    }
   ],
   "source": [
    "stove_ECO02 = read_dir(\n",
    "    path=r'data\\ECO\\House_2\\02_plugs_csv\\10',\n",
    "    name=\"stove\"\n",
    ")\n",
    "\n",
    "save_compressed(\n",
    "    file=stove_ECO02,\n",
    "    path=\"data/ECO/preprocessed/\",\n",
    "    name=\"stove02_preprocessed\",\n",
    "    key=\"stove\"\n",
    ")"
   ]
  },
  {
   "cell_type": "markdown",
   "metadata": {
    "heading_collapsed": true,
    "hidden": true
   },
   "source": [
    "### Occupancy"
   ]
  },
  {
   "cell_type": "code",
   "execution_count": 71,
   "metadata": {
    "ExecuteTime": {
     "end_time": "2021-03-10T20:34:27.692304Z",
     "start_time": "2021-03-10T20:33:13.788729Z"
    },
    "hidden": true
   },
   "outputs": [],
   "source": [
    "occ_summer_ECO02 = pd.read_csv(\n",
    "    \"data/ECO/House_2/02_occupancy_csv/02_summer.csv\")\n",
    "occ_winter_ECO02 = pd.read_csv(\n",
    "    \"data/ECO/House_2/02_occupancy_csv/02_winter.csv\")\n",
    "\n",
    "# Unpivot occupancy data and combines dataframes\n",
    "occ_summer_ECO02 = occ_summer_ECO02.melt(id_vars=\"Unnamed: 0\")\n",
    "occ_winter_ECO02 = occ_winter_ECO02.melt(id_vars=\"Unnamed: 0\")\n",
    "occupancy_ECO02 = pd.concat([occ_summer_ECO02, occ_winter_ECO02])\n",
    "\n",
    "# Preprocess into final format\n",
    "occupancy_ECO02 = process_occupancy(occupancy_ECO02)"
   ]
  },
  {
   "cell_type": "code",
   "execution_count": 72,
   "metadata": {
    "ExecuteTime": {
     "end_time": "2021-03-10T20:34:28.815031Z",
     "start_time": "2021-03-10T20:34:27.694304Z"
    },
    "hidden": true
   },
   "outputs": [
    {
     "name": "stdout",
     "output_type": "stream",
     "text": [
      "Saving occupancy02_preprocessed.h5...\n",
      "File saved successfully.\n"
     ]
    }
   ],
   "source": [
    "save_compressed(\n",
    "    file=occupancy_ECO02,\n",
    "    path=\"data/ECO/preprocessed/\",\n",
    "    name=\"occupancy02_preprocessed\",\n",
    "    key=\"occupancy\"\n",
    ")"
   ]
  },
  {
   "cell_type": "markdown",
   "metadata": {
    "heading_collapsed": true,
    "hidden": true
   },
   "source": [
    "### Export aggregated data"
   ]
  },
  {
   "cell_type": "markdown",
   "metadata": {
    "heading_collapsed": true,
    "hidden": true
   },
   "source": [
    "#### Television"
   ]
  },
  {
   "cell_type": "code",
   "execution_count": 73,
   "metadata": {
    "ExecuteTime": {
     "end_time": "2021-03-10T20:34:57.564677Z",
     "start_time": "2021-03-10T20:34:28.817034Z"
    },
    "hidden": true
   },
   "outputs": [
    {
     "name": "stdout",
     "output_type": "stream",
     "text": [
      "Resampling television to 6s...\n",
      "Saving television_6s.h5...\n",
      "File saved successfully.\n",
      "Resampling television to 1min...\n",
      "Saving television_1min.h5...\n",
      "File saved successfully.\n"
     ]
    }
   ],
   "source": [
    "television_full_ECO02 = occupancy_ECO02.join(\n",
    "    other=[television_ECO02, mains_ECO02, weather_df_ECO_full],\n",
    "    lsuffix='_l', rsuffix='_r'\n",
    ").dropna()\n",
    "\n",
    "# Resample 6 seconds\n",
    "resample_and_export(\n",
    "    df=television_full_ECO02,\n",
    "    sampling_rate=\"6s\",\n",
    "    dataset=\"ECO\",\n",
    "    name=\"television\"\n",
    ")\n",
    "\n",
    "# Resample 1 minute\n",
    "resample_and_export(\n",
    "    df=television_full_ECO02,\n",
    "    sampling_rate=\"1min\",\n",
    "    dataset=\"ECO\",\n",
    "    name=\"television\"\n",
    ")"
   ]
  },
  {
   "cell_type": "markdown",
   "metadata": {
    "heading_collapsed": true,
    "hidden": true
   },
   "source": [
    "#### Laptop"
   ]
  },
  {
   "cell_type": "code",
   "execution_count": 74,
   "metadata": {
    "ExecuteTime": {
     "end_time": "2021-03-10T20:35:22.193435Z",
     "start_time": "2021-03-10T20:34:57.566678Z"
    },
    "hidden": true
   },
   "outputs": [
    {
     "name": "stdout",
     "output_type": "stream",
     "text": [
      "Resampling laptop to 6s...\n",
      "Saving laptop_6s.h5...\n",
      "File saved successfully.\n",
      "Resampling laptop to 1min...\n",
      "Saving laptop_1min.h5...\n",
      "File saved successfully.\n"
     ]
    }
   ],
   "source": [
    "laptop_full_ECO02 = occupancy_ECO02.join(\n",
    "    other=[laptop_ECO02, mains_ECO02, weather_df_ECO_full],\n",
    "    lsuffix='_l', rsuffix='_r'\n",
    ").dropna()\n",
    "\n",
    "# Resample 6 seconds\n",
    "resample_and_export(\n",
    "    df=laptop_full_ECO02,\n",
    "    sampling_rate=\"6s\",\n",
    "    dataset=\"ECO\",\n",
    "    name=\"laptop\"\n",
    ")\n",
    "\n",
    "# Resample 1 minute\n",
    "resample_and_export(\n",
    "    df=laptop_full_ECO02,\n",
    "    sampling_rate=\"1min\",\n",
    "    dataset=\"ECO\",\n",
    "    name=\"laptop\"\n",
    ")"
   ]
  },
  {
   "cell_type": "markdown",
   "metadata": {
    "heading_collapsed": true,
    "hidden": true
   },
   "source": [
    "#### Stove"
   ]
  },
  {
   "cell_type": "code",
   "execution_count": 75,
   "metadata": {
    "ExecuteTime": {
     "end_time": "2021-03-10T20:35:38.786314Z",
     "start_time": "2021-03-10T20:35:22.195436Z"
    },
    "hidden": true
   },
   "outputs": [
    {
     "name": "stdout",
     "output_type": "stream",
     "text": [
      "Resampling stove to 6s...\n",
      "Saving stove_6s.h5...\n",
      "File saved successfully.\n",
      "Resampling stove to 1min...\n",
      "Saving stove_1min.h5...\n",
      "File saved successfully.\n"
     ]
    }
   ],
   "source": [
    "stove_full_ECO02 = occupancy_ECO02.join(\n",
    "    other=[stove_ECO02, mains_ECO02, weather_df_ECO_full],\n",
    "    lsuffix='_l', rsuffix='_r'\n",
    ").dropna()\n",
    "\n",
    "# Resample 6 seconds\n",
    "resample_and_export(\n",
    "    df=stove_full_ECO02,\n",
    "    sampling_rate=\"6s\",\n",
    "    dataset=\"ECO\",\n",
    "    name=\"stove\"\n",
    ")\n",
    "\n",
    "# Resample 1 minute\n",
    "resample_and_export(\n",
    "    df=stove_full_ECO02,\n",
    "    sampling_rate=\"1min\",\n",
    "    dataset=\"ECO\",\n",
    "    name=\"stove\"\n",
    ")"
   ]
  },
  {
   "cell_type": "markdown",
   "metadata": {
    "heading_collapsed": true,
    "hidden": true
   },
   "source": [
    "#### All data"
   ]
  },
  {
   "cell_type": "code",
   "execution_count": 76,
   "metadata": {
    "ExecuteTime": {
     "end_time": "2021-03-10T20:36:02.112397Z",
     "start_time": "2021-03-10T20:35:38.788317Z"
    },
    "hidden": true,
    "scrolled": true
   },
   "outputs": [
    {
     "name": "stdout",
     "output_type": "stream",
     "text": [
      "Resampling full_data02 to 6s...\n",
      "Saving full_data02_6s.h5...\n",
      "File saved successfully.\n",
      "Resampling full_data02 to 1min...\n",
      "Saving full_data02_1min.h5...\n",
      "File saved successfully.\n"
     ]
    }
   ],
   "source": [
    "data_ECO02 = occupancy_ECO02.join(\n",
    "    other=[television_ECO02, laptop_ECO02,\n",
    "           stove_ECO02, mains_ECO02, weather_df_ECO_full],\n",
    "    lsuffix='_l', rsuffix='_r'\n",
    ").dropna()\n",
    "\n",
    "# Resample 6 seconds\n",
    "resample_and_export(\n",
    "    df=data_ECO02,\n",
    "    sampling_rate=\"6s\",\n",
    "    dataset=\"ECO\",\n",
    "    name=\"full_data02\"\n",
    ")\n",
    "\n",
    "# Resample 1 minute\n",
    "resample_and_export(\n",
    "    df=data_ECO02,\n",
    "    sampling_rate=\"1min\",\n",
    "    dataset=\"ECO\",\n",
    "    name=\"full_data02\"\n",
    ")"
   ]
  },
  {
   "cell_type": "markdown",
   "metadata": {
    "hidden": true
   },
   "source": [
    "### Cleanup"
   ]
  },
  {
   "cell_type": "code",
   "execution_count": 77,
   "metadata": {
    "ExecuteTime": {
     "end_time": "2021-03-10T20:36:02.384466Z",
     "start_time": "2021-03-10T20:36:02.114399Z"
    },
    "hidden": true
   },
   "outputs": [],
   "source": [
    "# Remember: weather_df_ECO_full is still needed for other houses\n",
    "\n",
    "del(\n",
    "    mains_ECO02, \n",
    "    television_ECO02, television_full_ECO02,\n",
    "    laptop_ECO02, laptop_full_ECO02,\n",
    "    stove_ECO02, stove_full_ECO02,\n",
    "    occ_summer_ECO02, occ_winter_ECO02, occupancy_ECO02,\n",
    "    data_ECO02\n",
    "   )"
   ]
  },
  {
   "cell_type": "markdown",
   "metadata": {
    "hidden": true
   },
   "source": [
    "## ECO House 4"
   ]
  },
  {
   "cell_type": "markdown",
   "metadata": {
    "heading_collapsed": true,
    "hidden": true
   },
   "source": [
    "### Mains"
   ]
  },
  {
   "cell_type": "code",
   "execution_count": 78,
   "metadata": {
    "ExecuteTime": {
     "end_time": "2021-03-10T20:36:24.511125Z",
     "start_time": "2021-03-10T20:36:02.389468Z"
    },
    "hidden": true
   },
   "outputs": [
    {
     "name": "stdout",
     "output_type": "stream",
     "text": [
      "Reading directory data\\ECO\\House_4\\04_sm_csv ...\n"
     ]
    },
    {
     "data": {
      "application/vnd.jupyter.widget-view+json": {
       "model_id": "cba194d0afa34a4faaab77b8eee11417",
       "version_major": 2,
       "version_minor": 0
      },
      "text/plain": [
       "  0%|          | 0/219 [00:00<?, ?it/s]"
      ]
     },
     "metadata": {},
     "output_type": "display_data"
    },
    {
     "name": "stdout",
     "output_type": "stream",
     "text": [
      "Directory processed successfully.\n",
      "\n",
      "Saving mains04_preprocessed.h5...\n",
      "File saved successfully.\n"
     ]
    }
   ],
   "source": [
    "mains_ECO04 = read_dir(\n",
    "    path=r'data\\ECO\\House_4\\04_sm_csv',\n",
    "    name=\"mains\",\n",
    "    usecols=[0]\n",
    ")\n",
    "\n",
    "save_compressed(\n",
    "    file=mains_ECO04,\n",
    "    path=\"data/ECO/preprocessed/\",\n",
    "    name=\"mains04_preprocessed\",\n",
    "    key=\"mains\"\n",
    ")"
   ]
  },
  {
   "cell_type": "markdown",
   "metadata": {
    "heading_collapsed": true,
    "hidden": true
   },
   "source": [
    "### Microwave"
   ]
  },
  {
   "cell_type": "code",
   "execution_count": 79,
   "metadata": {
    "ExecuteTime": {
     "end_time": "2021-03-10T20:36:34.670251Z",
     "start_time": "2021-03-10T20:36:24.514127Z"
    },
    "hidden": true
   },
   "outputs": [
    {
     "name": "stdout",
     "output_type": "stream",
     "text": [
      "Reading directory data\\ECO\\House_4\\04_plugs_csv\\08 ...\n"
     ]
    },
    {
     "data": {
      "application/vnd.jupyter.widget-view+json": {
       "model_id": "ab511c3696ad42a6b9ce19039bc9d37e",
       "version_major": 2,
       "version_minor": 0
      },
      "text/plain": [
       "  0%|          | 0/195 [00:00<?, ?it/s]"
      ]
     },
     "metadata": {},
     "output_type": "display_data"
    },
    {
     "name": "stdout",
     "output_type": "stream",
     "text": [
      "Directory processed successfully.\n",
      "\n",
      "Saving microwave04_preprocessed.h5...\n",
      "File saved successfully.\n"
     ]
    }
   ],
   "source": [
    "microwave_ECO04 = read_dir(\n",
    "    path=r'data\\ECO\\House_4\\04_plugs_csv\\08',\n",
    "    name=\"microwave\"\n",
    ")\n",
    "\n",
    "save_compressed(\n",
    "    file=microwave_ECO04,\n",
    "    path=\"data/ECO/preprocessed/\",\n",
    "    name=\"microwave04_preprocessed\",\n",
    "    key=\"microwave\"\n",
    ")"
   ]
  },
  {
   "cell_type": "markdown",
   "metadata": {
    "heading_collapsed": true,
    "hidden": true
   },
   "source": [
    "### Occupancy"
   ]
  },
  {
   "cell_type": "code",
   "execution_count": 80,
   "metadata": {
    "ExecuteTime": {
     "end_time": "2021-03-10T20:37:25.693133Z",
     "start_time": "2021-03-10T20:36:34.672252Z"
    },
    "hidden": true
   },
   "outputs": [],
   "source": [
    "occ_summer_ECO04 = pd.read_csv(\n",
    "    \"data/ECO/House_4/04_occupancy_csv/04_summer.csv\")\n",
    "occ_winter_ECO04 = pd.read_csv(\n",
    "    \"data/ECO/House_4/04_occupancy_csv/04_winter.csv\")\n",
    "\n",
    "# Unpivot occupancy data and combines dataframes\n",
    "occ_summer_ECO04 = occ_summer_ECO04.melt(id_vars=\"Unnamed: 0\")\n",
    "occ_winter_ECO04 = occ_winter_ECO04.melt(id_vars=\"Unnamed: 0\")\n",
    "occupancy_ECO04 = pd.concat([occ_summer_ECO04, occ_winter_ECO04])\n",
    "\n",
    "# Preprocess into final format\n",
    "occupancy_ECO04 = process_occupancy(occupancy_ECO04)"
   ]
  },
  {
   "cell_type": "code",
   "execution_count": 81,
   "metadata": {
    "ExecuteTime": {
     "end_time": "2021-03-10T20:37:26.518856Z",
     "start_time": "2021-03-10T20:37:25.695135Z"
    },
    "hidden": true
   },
   "outputs": [
    {
     "name": "stdout",
     "output_type": "stream",
     "text": [
      "Saving occupancy04_preprocessed.h5...\n",
      "File saved successfully.\n"
     ]
    }
   ],
   "source": [
    "save_compressed(\n",
    "    file=occupancy_ECO04,\n",
    "    path=\"data/ECO/preprocessed/\",\n",
    "    name=\"occupancy04_preprocessed\",\n",
    "    key=\"occupancy\"\n",
    ")"
   ]
  },
  {
   "cell_type": "markdown",
   "metadata": {
    "heading_collapsed": true,
    "hidden": true
   },
   "source": [
    "### Export aggregated data"
   ]
  },
  {
   "cell_type": "markdown",
   "metadata": {
    "heading_collapsed": true,
    "hidden": true
   },
   "source": [
    "#### Microwave"
   ]
  },
  {
   "cell_type": "code",
   "execution_count": 82,
   "metadata": {
    "ExecuteTime": {
     "end_time": "2021-03-10T20:37:53.390720Z",
     "start_time": "2021-03-10T20:37:26.521579Z"
    },
    "hidden": true
   },
   "outputs": [
    {
     "name": "stdout",
     "output_type": "stream",
     "text": [
      "Resampling microwave to 6s...\n",
      "Saving microwave_6s.h5...\n",
      "File saved successfully.\n",
      "Resampling microwave to 1min...\n",
      "Saving microwave_1min.h5...\n",
      "File saved successfully.\n"
     ]
    }
   ],
   "source": [
    "microwave_full_ECO04 = occupancy_ECO04.join(\n",
    "    other=[microwave_ECO04, mains_ECO04, weather_df_ECO_full],\n",
    "    lsuffix='_l', rsuffix='_r'\n",
    ").dropna()\n",
    "\n",
    "# Resample 6 seconds\n",
    "resample_and_export(\n",
    "    df=microwave_full_ECO04,\n",
    "    sampling_rate=\"6s\",\n",
    "    dataset=\"ECO\",\n",
    "    name=\"microwave\"\n",
    ")\n",
    "\n",
    "# Resample 1 minute\n",
    "resample_and_export(\n",
    "    df=microwave_full_ECO04,\n",
    "    sampling_rate=\"1min\",\n",
    "    dataset=\"ECO\",\n",
    "    name=\"microwave\"\n",
    ")"
   ]
  },
  {
   "cell_type": "markdown",
   "metadata": {
    "heading_collapsed": true,
    "hidden": true
   },
   "source": [
    "### Cleanup"
   ]
  },
  {
   "cell_type": "code",
   "execution_count": 83,
   "metadata": {
    "ExecuteTime": {
     "end_time": "2021-03-10T20:37:53.629774Z",
     "start_time": "2021-03-10T20:37:53.392721Z"
    },
    "hidden": true
   },
   "outputs": [],
   "source": [
    "# If not executed last, either exclude weather_df_ECO_full or reload it from \n",
    "# disk afterwards.\n",
    "\n",
    "del(\n",
    "    mains_ECO04, \n",
    "    microwave_ECO04, microwave_full_ECO04,\n",
    "    occ_summer_ECO04, occ_winter_ECO04, occupancy_ECO04,\n",
    "    weather_df_ECO_full\n",
    "   )"
   ]
  },
  {
   "cell_type": "markdown",
   "metadata": {},
   "source": [
    "# Train Test Split"
   ]
  },
  {
   "cell_type": "markdown",
   "metadata": {},
   "source": [
    "## DRED"
   ]
  },
  {
   "cell_type": "code",
   "execution_count": 98,
   "metadata": {
    "ExecuteTime": {
     "end_time": "2021-03-11T16:43:00.929772Z",
     "start_time": "2021-03-11T16:43:00.911769Z"
    }
   },
   "outputs": [],
   "source": [
    "def normalize_df(train_df, stats, exclude_cols):\n",
    "    for col in train_df.columns:\n",
    "        if not col in exclude_cols:\n",
    "            mean = stats[\"mean\"][col]\n",
    "            std = stats[\"std\"][col]\n",
    "            train_df[col] = (train_df[col] - mean) / std\n",
    "    return train_df"
   ]
  },
  {
   "cell_type": "markdown",
   "metadata": {
    "heading_collapsed": true
   },
   "source": [
    "### 1 min data"
   ]
  },
  {
   "cell_type": "code",
   "execution_count": 100,
   "metadata": {
    "ExecuteTime": {
     "end_time": "2021-03-11T16:43:41.645594Z",
     "start_time": "2021-03-11T16:43:41.503427Z"
    },
    "hidden": true
   },
   "outputs": [
    {
     "name": "stdout",
     "output_type": "stream",
     "text": [
      "Reading file...\n"
     ]
    }
   ],
   "source": [
    "df_DRED_1min = read_compressed(path=\"data\\DRED\\preprocessed\\dred_1min.h5\")"
   ]
  },
  {
   "cell_type": "code",
   "execution_count": 115,
   "metadata": {
    "ExecuteTime": {
     "end_time": "2021-03-11T16:57:05.352977Z",
     "start_time": "2021-03-11T16:57:05.315969Z"
    },
    "hidden": true
   },
   "outputs": [
    {
     "name": "stdout",
     "output_type": "stream",
     "text": [
      "Added to train:\t2015-07-20 - 2015-08-10\n",
      "Added to val:\t2015-08-10 - 2015-08-17\n",
      "Added to test:\t2015-08-17 - 2015-08-24\n",
      "Added to train:\t2015-08-24 - 2015-09-14\n",
      "Added to val:\t2015-09-14 - 2015-09-21\n",
      "Added to test:\t2015-09-21 - 2015-09-28\n",
      "Added to train:\t2015-09-28 - 2015-10-19\n",
      "Added to val:\t2015-10-19 - 2015-10-26\n",
      "Added to test:\t2015-10-26 - 2015-11-02\n",
      "Added to train:\t2015-11-02 - 2015-11-23\n",
      "Added to val:\t2015-11-23 - 2015-11-30\n",
      "Added to test:\t2015-11-30 - 2015-12-07\n"
     ]
    }
   ],
   "source": [
    "# Create training, validation and testing frames by iteratively adding\n",
    "# 4-week and 1-week segments of the data to the respective datasets\n",
    "\n",
    "train_DRED_1min = []\n",
    "validation_DRED_1min = []\n",
    "test_DRED_1min = []\n",
    "\n",
    "start_date = datetime.strptime(\"2015-07-20\", \"%Y-%m-%d\")\n",
    "end_date = start_date\n",
    "max_date = datetime.strptime(\"2015-12-06\", \"%Y-%m-%d\")\n",
    "\n",
    "while(start_date < max_date):\n",
    "\n",
    "    # Add train\n",
    "    end_date = start_date + timedelta(days=21)\n",
    "\n",
    "    train_DRED_1min.append(df_DRED_1min.loc[start_date: end_date])\n",
    "    print(f\"Added to train:\\t{start_date.date()} - {end_date.date()}\")\n",
    "\n",
    "    # Add validation\n",
    "    start_date = end_date\n",
    "    end_date = start_date + timedelta(days=7)\n",
    "\n",
    "    validation_DRED_1min.append(df_DRED_1min.loc[start_date: end_date])\n",
    "    print(f\"Added to val:\\t{start_date.date()} - {end_date.date()}\")\n",
    "\n",
    "    # Add test\n",
    "    start_date = end_date\n",
    "    end_date = start_date + timedelta(days=7)\n",
    "\n",
    "    test_DRED_1min.append(df_DRED_1min.loc[start_date: end_date])\n",
    "    print(f\"Added to test:\\t{start_date.date()} - {end_date.date()}\")\n",
    "\n",
    "    start_date = end_date\n",
    "\n",
    "train_df_DRED_1min = pd.concat(train_DRED_1min)\n",
    "validation_df_DRED_1min = pd.concat(validation_DRED_1min)\n",
    "test_df_DRED_1min = pd.concat(test_DRED_1min)"
   ]
  },
  {
   "cell_type": "code",
   "execution_count": 102,
   "metadata": {
    "ExecuteTime": {
     "end_time": "2021-03-11T16:43:51.062435Z",
     "start_time": "2021-03-11T16:43:51.041430Z"
    },
    "hidden": true
   },
   "outputs": [],
   "source": [
    "# Calculate mean/std and store as json\n",
    "\n",
    "stats_DRED_1min = {}\n",
    "stats_DRED_1min[\"mean\"] = dict(train_df_DRED_1min.mean())\n",
    "stats_DRED_1min[\"std\"] = dict(train_df_DRED_1min.std())\n",
    "with open('stats_DRED_1min.json', 'w') as fp:\n",
    "    json.dump(stats_DRED_1min, fp, indent=4)"
   ]
  },
  {
   "cell_type": "code",
   "execution_count": 103,
   "metadata": {
    "ExecuteTime": {
     "end_time": "2021-03-11T16:43:51.995813Z",
     "start_time": "2021-03-11T16:43:51.938081Z"
    },
    "hidden": true
   },
   "outputs": [],
   "source": [
    "exclude_columns = [\"temperature\", \"humidity\", \"occupied\"]\n",
    "\n",
    "train_df_DRED_1min = normalize_df(\n",
    "    train_df_DRED_1min, \n",
    "    stats=stats_DRED_1min, \n",
    "    exclude_cols=exclude_columns\n",
    ")\n",
    "\n",
    "validation_df_DRED_1min = normalize_df(\n",
    "    validation_df_DRED_1min, \n",
    "    stats=stats_DRED_1min, \n",
    "    exclude_cols=exclude_columns\n",
    ")\n",
    "\n",
    "test_df_DRED_1min = normalize_df(\n",
    "    test_df_DRED_1min, \n",
    "    stats=stats_DRED_1min, \n",
    "    exclude_cols=exclude_columns\n",
    ")\n"
   ]
  },
  {
   "cell_type": "code",
   "execution_count": 92,
   "metadata": {
    "ExecuteTime": {
     "end_time": "2021-03-11T16:37:38.938713Z",
     "start_time": "2021-03-11T16:37:38.929712Z"
    },
    "hidden": true
   },
   "outputs": [],
   "source": [
    "columns = [\"fridge\", \"washing machine\", \"television\", \"laptop computer\", \"microwave\"]"
   ]
  },
  {
   "cell_type": "code",
   "execution_count": 111,
   "metadata": {
    "ExecuteTime": {
     "end_time": "2021-03-11T16:52:29.738463Z",
     "start_time": "2021-03-11T16:52:20.753429Z"
    },
    "hidden": true
   },
   "outputs": [],
   "source": [
    "output_dir = \"data/appliances/\"\n",
    "\n",
    "for app in columns:\n",
    "    train = train_df_DRED_1min[[app, \"mains\", \"occupied\", \"temperature\",\n",
    "                                \"humidity\"]]\n",
    "\n",
    "    validation = validation_df_DRED_1min[[app, \"mains\", \"occupied\",\n",
    "                                          \"temperature\", \"humidity\"]]\n",
    "\n",
    "    test = test_df_DRED_1min[[app, \"mains\", \"occupied\", \"temperature\",\n",
    "                              \"humidity\"]]\n",
    "\n",
    "    train.to_csv(\n",
    "        output_dir + app + \"/\" + app + \"_training_1min_.csv\",\n",
    "        index=False,\n",
    "        float_format='%g'\n",
    "    )\n",
    "\n",
    "    validation.to_csv(\n",
    "        output_dir + app + \"/\" + app + \"_validation_1min_.csv\",\n",
    "        index=False,\n",
    "        float_format='%g'\n",
    "    )\n",
    "\n",
    "    test.to_csv(\n",
    "        output_dir + app + \"/\" + app + \"_test_1min_.csv\",\n",
    "        index=False,\n",
    "        float_format='%g'\n",
    "    )"
   ]
  },
  {
   "cell_type": "markdown",
   "metadata": {},
   "source": [
    "### 6s data\n",
    "\n",
    "If there's time this definitely needs to be refactored to reduce redundancy."
   ]
  },
  {
   "cell_type": "code",
   "execution_count": 116,
   "metadata": {
    "ExecuteTime": {
     "end_time": "2021-03-11T16:57:12.124025Z",
     "start_time": "2021-03-11T16:57:11.155807Z"
    }
   },
   "outputs": [
    {
     "name": "stdout",
     "output_type": "stream",
     "text": [
      "Reading file...\n",
      "Added to train:\t2015-07-20 - 2015-08-10\n",
      "Added to val:\t2015-08-10 - 2015-08-17\n",
      "Added to test:\t2015-08-17 - 2015-08-24\n",
      "Added to train:\t2015-08-24 - 2015-09-14\n",
      "Added to val:\t2015-09-14 - 2015-09-21\n",
      "Added to test:\t2015-09-21 - 2015-09-28\n",
      "Added to train:\t2015-09-28 - 2015-10-19\n",
      "Added to val:\t2015-10-19 - 2015-10-26\n",
      "Added to test:\t2015-10-26 - 2015-11-02\n",
      "Added to train:\t2015-11-02 - 2015-11-23\n",
      "Added to val:\t2015-11-23 - 2015-11-30\n",
      "Added to test:\t2015-11-30 - 2015-12-07\n"
     ]
    }
   ],
   "source": [
    "df_DRED_6s = read_compressed(path=\"data\\DRED\\preprocessed\\dred_6s.h5\")\n",
    "\n",
    "# Create training, validation and testing frames by iteratively adding \n",
    "# 4-week and 1-week segments of the data to the respective datasets\n",
    "\n",
    "train_DRED_6s = []\n",
    "validation_DRED_6s = []\n",
    "test_DRED_6s = []\n",
    "\n",
    "start_date = datetime.strptime(\"2015-07-20\", \"%Y-%m-%d\")\n",
    "end_date = start_date\n",
    "max_date = datetime.strptime(\"2015-12-06\", \"%Y-%m-%d\")\n",
    "\n",
    "while(start_date < max_date):\n",
    "    \n",
    "    # Add train\n",
    "    end_date = start_date + timedelta(days=21)\n",
    "    \n",
    "    train_DRED_6s.append(df_DRED_6s.loc[start_date: end_date])\n",
    "    print(f\"Added to train:\\t{start_date.date()} - {end_date.date()}\")\n",
    "    \n",
    "    # Add validation\n",
    "    start_date = end_date    \n",
    "    end_date = start_date + timedelta(days=7)\n",
    "    \n",
    "    validation_DRED_6s.append(df_DRED_6s.loc[start_date: end_date])\n",
    "    print(f\"Added to val:\\t{start_date.date()} - {end_date.date()}\")\n",
    "    \n",
    "    # Add test \n",
    "    start_date = end_date    \n",
    "    end_date = start_date + timedelta(days=7)\n",
    "    \n",
    "    test_DRED_6s.append(df_DRED_6s.loc[start_date: end_date])\n",
    "    print(f\"Added to test:\\t{start_date.date()} - {end_date.date()}\")\n",
    "    start_date = end_date\n",
    "    \n",
    "    \n",
    "train_df_DRED_6s = pd.concat(train_DRED_6s)\n",
    "validation_df_DRED_6s = pd.concat(validation_DRED_6s)\n",
    "test_df_DRED_6s = pd.concat(test_DRED_6s)"
   ]
  },
  {
   "cell_type": "code",
   "execution_count": 117,
   "metadata": {
    "ExecuteTime": {
     "end_time": "2021-03-11T16:57:46.357707Z",
     "start_time": "2021-03-11T16:57:46.297694Z"
    }
   },
   "outputs": [],
   "source": [
    "# Calculate mean/std and store as json\n",
    "\n",
    "stats_DRED_6s = {}\n",
    "stats_DRED_6s[\"mean\"] = dict(train_df_DRED_6s.mean())\n",
    "stats_DRED_6s[\"std\"] = dict(train_df_DRED_6s.std())\n",
    "with open('stats_DRED_6s.json', 'w') as fp:\n",
    "    json.dump(stats_DRED_6s, fp, indent=4)"
   ]
  },
  {
   "cell_type": "code",
   "execution_count": 118,
   "metadata": {
    "ExecuteTime": {
     "end_time": "2021-03-11T16:58:14.746913Z",
     "start_time": "2021-03-11T16:58:14.508860Z"
    }
   },
   "outputs": [],
   "source": [
    "exclude_columns = [\"temperature\", \"humidity\", \"occupied\"]\n",
    "\n",
    "train_df_DRED_6s = normalize_df(\n",
    "    train_df_DRED_6s, \n",
    "    stats=stats_DRED_6s, \n",
    "    exclude_cols=exclude_columns\n",
    ")\n",
    "\n",
    "validation_df_DRED_6s = normalize_df(\n",
    "    validation_df_DRED_6s, \n",
    "    stats=stats_DRED_6s, \n",
    "    exclude_cols=exclude_columns\n",
    ")\n",
    "\n",
    "test_df_DRED_6s = normalize_df(\n",
    "    test_df_DRED_6s, \n",
    "    stats=stats_DRED_6s, \n",
    "    exclude_cols=exclude_columns\n",
    ")\n"
   ]
  },
  {
   "cell_type": "code",
   "execution_count": 119,
   "metadata": {
    "ExecuteTime": {
     "end_time": "2021-03-11T17:00:09.332625Z",
     "start_time": "2021-03-11T16:58:40.582700Z"
    }
   },
   "outputs": [],
   "source": [
    "output_dir = \"data/appliances/\"\n",
    "\n",
    "for app in columns:\n",
    "    train = train_df_DRED_6s[[app, \"mains\", \"occupied\", \"temperature\",\n",
    "                                \"humidity\"]]\n",
    "\n",
    "    validation = validation_df_DRED_6s[[app, \"mains\", \"occupied\",\n",
    "                                          \"temperature\", \"humidity\"]]\n",
    "\n",
    "    test = test_df_DRED_6s[[app, \"mains\", \"occupied\", \"temperature\",\n",
    "                              \"humidity\"]]\n",
    "\n",
    "    train.to_csv(\n",
    "        output_dir + app + \"/\" + app + \"_training_6s_.csv\",\n",
    "        index=False,\n",
    "        float_format='%g'\n",
    "    )\n",
    "\n",
    "    validation.to_csv(\n",
    "        output_dir + app + \"/\" + app + \"_validation_6s_.csv\",\n",
    "        index=False,\n",
    "        float_format='%g'\n",
    "    )\n",
    "\n",
    "    test.to_csv(\n",
    "        output_dir + app + \"/\" + app + \"_test_6s_.csv\",\n",
    "        index=False,\n",
    "        float_format='%g'\n",
    "    )"
   ]
  },
  {
   "cell_type": "markdown",
   "metadata": {},
   "source": [
    "## ECO"
   ]
  },
  {
   "cell_type": "markdown",
   "metadata": {
    "heading_collapsed": true
   },
   "source": [
    "### Fridge"
   ]
  },
  {
   "cell_type": "code",
   "execution_count": 138,
   "metadata": {
    "ExecuteTime": {
     "end_time": "2021-03-11T17:50:36.340102Z",
     "start_time": "2021-03-11T17:50:34.755946Z"
    },
    "hidden": true
   },
   "outputs": [
    {
     "name": "stdout",
     "output_type": "stream",
     "text": [
      "Reading file...\n"
     ]
    }
   ],
   "source": [
    "# 1 Minute data\n",
    "fridge_ECO_1min = read_compressed(path=\"data\\ECO\\preprocessed\\\\fridge_1min.h5\")\n",
    "\n",
    "fridge_ECO_1min = normalize_df(\n",
    "    fridge_ECO_1min, \n",
    "    stats=stats_DRED_1min, \n",
    "    exclude_cols=exclude_columns\n",
    ")\n",
    "\n",
    "fridge_ECO_1min.to_csv(\n",
    "        output_dir + \"fridge/fridge_ECO_1min_.csv\",\n",
    "        index=False,\n",
    "        float_format='%g'\n",
    ")"
   ]
  },
  {
   "cell_type": "code",
   "execution_count": 139,
   "metadata": {
    "ExecuteTime": {
     "end_time": "2021-03-11T17:50:52.752473Z",
     "start_time": "2021-03-11T17:50:37.120279Z"
    },
    "hidden": true
   },
   "outputs": [
    {
     "name": "stdout",
     "output_type": "stream",
     "text": [
      "Reading file...\n"
     ]
    }
   ],
   "source": [
    "# 6 seconds data\n",
    "fridge_ECO_6s = read_compressed(path=\"data\\ECO\\preprocessed\\\\fridge_6s.h5\")\n",
    "\n",
    "fridge_ECO_6s = normalize_df(\n",
    "    fridge_ECO_6s, \n",
    "    stats=stats_DRED_6s, \n",
    "    exclude_cols=exclude_columns\n",
    ")\n",
    "\n",
    "fridge_ECO_6s.to_csv(\n",
    "        output_dir + \"fridge/fridge_ECO_6s.csv\",\n",
    "        index=False,\n",
    "        float_format='%g'\n",
    ")"
   ]
  },
  {
   "cell_type": "markdown",
   "metadata": {
    "heading_collapsed": true
   },
   "source": [
    "### Microwave"
   ]
  },
  {
   "cell_type": "code",
   "execution_count": 154,
   "metadata": {
    "ExecuteTime": {
     "end_time": "2021-03-11T17:58:18.331432Z",
     "start_time": "2021-03-11T17:58:16.768047Z"
    },
    "hidden": true
   },
   "outputs": [
    {
     "name": "stdout",
     "output_type": "stream",
     "text": [
      "Reading file...\n"
     ]
    }
   ],
   "source": [
    "# 1 Minute data\n",
    "microwave_ECO_1min = read_compressed(\n",
    "    path=\"data\\ECO\\preprocessed\\microwave_1min.h5\"\n",
    ")\n",
    "\n",
    "microwave_ECO_1min = normalize_df(\n",
    "    microwave_ECO_1min, \n",
    "    stats=stats_DRED_1min, \n",
    "    exclude_cols=exclude_columns\n",
    ")\n",
    "\n",
    "microwave_ECO_1min.to_csv(\n",
    "        output_dir + \"microwave/microwave_ECO_1min_.csv\",\n",
    "        index=False,\n",
    "        float_format='%g'\n",
    ")"
   ]
  },
  {
   "cell_type": "code",
   "execution_count": 156,
   "metadata": {
    "ExecuteTime": {
     "end_time": "2021-03-11T17:58:53.782740Z",
     "start_time": "2021-03-11T17:58:38.402069Z"
    },
    "hidden": true
   },
   "outputs": [
    {
     "name": "stdout",
     "output_type": "stream",
     "text": [
      "Reading file...\n"
     ]
    }
   ],
   "source": [
    "# 6 seconds data\n",
    "microwave_ECO_6s = read_compressed(\n",
    "    path=\"data\\ECO\\preprocessed\\microwave_6s.h5\"\n",
    ")\n",
    "\n",
    "microwave_ECO_6s = normalize_df(\n",
    "    microwave_ECO_6s, \n",
    "    stats=stats_DRED_6s, \n",
    "    exclude_cols=exclude_columns\n",
    ")\n",
    "\n",
    "microwave_ECO_6s.to_csv(\n",
    "        output_dir + \"microwave/microwave_ECO_6s_.csv\",\n",
    "        index=False,\n",
    "        float_format='%g'\n",
    ")"
   ]
  },
  {
   "cell_type": "markdown",
   "metadata": {
    "heading_collapsed": true
   },
   "source": [
    "### Washing machine"
   ]
  },
  {
   "cell_type": "code",
   "execution_count": 152,
   "metadata": {
    "ExecuteTime": {
     "end_time": "2021-03-11T17:56:22.080258Z",
     "start_time": "2021-03-11T17:56:20.474903Z"
    },
    "hidden": true
   },
   "outputs": [
    {
     "name": "stdout",
     "output_type": "stream",
     "text": [
      "Reading file...\n"
     ]
    }
   ],
   "source": [
    "# 1 Minute data\n",
    "washing_machine_ECO_1min = read_compressed(\n",
    "    path=\"data\\ECO\\preprocessed\\washing_machine_1min.h5\"\n",
    ")\n",
    "# Temporary fix for naming. If time, change preprocessing function.\n",
    "washing_machine_ECO_1min.rename(\n",
    "    columns={\"washing_machine\":\"washing machine\"},\n",
    "    inplace=True\n",
    ")\n",
    "\n",
    "washing_machine_ECO_1min = normalize_df(\n",
    "    washing_machine_ECO_1min, \n",
    "    stats=stats_DRED_1min, \n",
    "    exclude_cols=exclude_columns\n",
    ")\n",
    "\n",
    "washing_machine_ECO_1min.to_csv(\n",
    "        output_dir + \"washing machine/washing_machine_ECO_1min_.csv\",\n",
    "        index=False,\n",
    "        float_format='%g'\n",
    ")"
   ]
  },
  {
   "cell_type": "code",
   "execution_count": 157,
   "metadata": {
    "ExecuteTime": {
     "end_time": "2021-03-11T17:59:10.791810Z",
     "start_time": "2021-03-11T17:58:54.645251Z"
    },
    "hidden": true
   },
   "outputs": [
    {
     "name": "stdout",
     "output_type": "stream",
     "text": [
      "Reading file...\n"
     ]
    }
   ],
   "source": [
    "# 6 second data\n",
    "washing_machine_ECO_6s = read_compressed(\n",
    "    path=\"data\\ECO\\preprocessed\\washing_machine_6s.h5\"\n",
    ")\n",
    "# Temporary fix for naming. If time, change preprocessing function.\n",
    "washing_machine_ECO_6s.rename(\n",
    "    columns={\"washing_machine\":\"washing machine\"},\n",
    "    inplace=True\n",
    ")\n",
    "\n",
    "washing_machine_ECO_6s = normalize_df(\n",
    "    washing_machine_ECO_6s, \n",
    "    stats=stats_DRED_6s, \n",
    "    exclude_cols=exclude_columns\n",
    ")\n",
    "\n",
    "washing_machine_ECO_6s.to_csv(\n",
    "        output_dir + \"washing machine/washing_machine_ECO_6s_.csv\",\n",
    "        index=False,\n",
    "        float_format='%g'\n",
    ")"
   ]
  },
  {
   "cell_type": "markdown",
   "metadata": {
    "heading_collapsed": true
   },
   "source": [
    "### Television"
   ]
  },
  {
   "cell_type": "code",
   "execution_count": 160,
   "metadata": {
    "ExecuteTime": {
     "end_time": "2021-03-11T18:03:47.730647Z",
     "start_time": "2021-03-11T18:03:46.105280Z"
    },
    "hidden": true
   },
   "outputs": [
    {
     "name": "stdout",
     "output_type": "stream",
     "text": [
      "Reading file...\n"
     ]
    }
   ],
   "source": [
    "# 1 Minute data\n",
    "television_ECO_1min = read_compressed(\n",
    "    path=\"data\\ECO\\preprocessed\\\\television_1min.h5\"\n",
    ")\n",
    "\n",
    "television_ECO_1min = normalize_df(\n",
    "    television_ECO_1min, \n",
    "    stats=stats_DRED_1min, \n",
    "    exclude_cols=exclude_columns\n",
    ")\n",
    "\n",
    "television_ECO_1min.to_csv(\n",
    "        output_dir + \"television/television_ECO_1min_.csv\",\n",
    "        index=False,\n",
    "        float_format='%g'\n",
    ")"
   ]
  },
  {
   "cell_type": "code",
   "execution_count": 161,
   "metadata": {
    "ExecuteTime": {
     "end_time": "2021-03-11T18:04:48.001712Z",
     "start_time": "2021-03-11T18:04:32.042498Z"
    },
    "hidden": true
   },
   "outputs": [
    {
     "name": "stdout",
     "output_type": "stream",
     "text": [
      "Reading file...\n"
     ]
    }
   ],
   "source": [
    "# 6 second data\n",
    "television_ECO_6s = read_compressed(\n",
    "    path=\"data\\ECO\\preprocessed\\\\television_6s.h5\"\n",
    ")\n",
    "\n",
    "television_ECO_6s = normalize_df(\n",
    "    television_ECO_6s, \n",
    "    stats=stats_DRED_6s, \n",
    "    exclude_cols=exclude_columns\n",
    ")\n",
    "\n",
    "television_ECO_6s.to_csv(\n",
    "        output_dir + \"television/television_ECO_6s_.csv\",\n",
    "        index=False,\n",
    "        float_format='%g'\n",
    ")"
   ]
  },
  {
   "cell_type": "markdown",
   "metadata": {
    "heading_collapsed": true
   },
   "source": [
    "### Laptop"
   ]
  },
  {
   "cell_type": "code",
   "execution_count": 166,
   "metadata": {
    "ExecuteTime": {
     "end_time": "2021-03-11T18:06:00.939371Z",
     "start_time": "2021-03-11T18:05:59.287994Z"
    },
    "hidden": true
   },
   "outputs": [
    {
     "name": "stdout",
     "output_type": "stream",
     "text": [
      "Reading file...\n"
     ]
    }
   ],
   "source": [
    "# 1 Minute data\n",
    "laptop_ECO_1min = read_compressed(\n",
    "    path=\"data\\ECO\\preprocessed\\\\laptop_1min.h5\"\n",
    ")\n",
    "\n",
    "# Temporary fix for naming. If time, change preprocessing function.\n",
    "laptop_ECO_1min.rename(\n",
    "    columns={\"laptop\":\"laptop computer\"},\n",
    "    inplace=True\n",
    ")\n",
    "\n",
    "laptop_ECO_1min = normalize_df(\n",
    "    laptop_ECO_1min, \n",
    "    stats=stats_DRED_1min, \n",
    "    exclude_cols=exclude_columns\n",
    ")\n",
    "\n",
    "laptop_ECO_1min.to_csv(\n",
    "        output_dir + \"laptop computer/laptop_ECO_1min_.csv\",\n",
    "        index=False,\n",
    "        float_format='%g'\n",
    ")"
   ]
  },
  {
   "cell_type": "code",
   "execution_count": 167,
   "metadata": {
    "ExecuteTime": {
     "end_time": "2021-03-11T18:06:54.500057Z",
     "start_time": "2021-03-11T18:06:38.290404Z"
    },
    "hidden": true
   },
   "outputs": [
    {
     "name": "stdout",
     "output_type": "stream",
     "text": [
      "Reading file...\n"
     ]
    }
   ],
   "source": [
    "# 6 second data\n",
    "laptop_ECO_6s = read_compressed(\n",
    "    path=\"data\\ECO\\preprocessed\\\\laptop_6s.h5\"\n",
    ")\n",
    "\n",
    "# Temporary fix for naming. If time, change preprocessing function.\n",
    "laptop_ECO_6s.rename(\n",
    "    columns={\"laptop\":\"laptop computer\"},\n",
    "    inplace=True\n",
    ")\n",
    "\n",
    "laptop_ECO_6s = normalize_df(\n",
    "    laptop_ECO_6s, \n",
    "    stats=stats_DRED_6s, \n",
    "    exclude_cols=exclude_columns\n",
    ")\n",
    "\n",
    "laptop_ECO_6s.to_csv(\n",
    "        output_dir + \"laptop computer/laptop_ECO_6s_.csv\",\n",
    "        index=False,\n",
    "        float_format='%g'\n",
    ")"
   ]
  },
  {
   "cell_type": "code",
   "execution_count": 83,
   "metadata": {
    "ExecuteTime": {
     "end_time": "2021-03-11T15:04:11.258842Z",
     "start_time": "2021-03-11T15:04:11.247847Z"
    },
    "hidden": true
   },
   "outputs": [],
   "source": [
    "path = r\"C:\\Users\\Josef\\Google Drive\\Uni\\Master\\3 Wintersemester 20-21\\Seminar Information Systems\\Contribution\\Seq2Seq\\seq2point-nilm-master\\dataset_management\\redd\\out\""
   ]
  },
  {
   "cell_type": "markdown",
   "metadata": {
    "hidden": true
   },
   "source": [
    "Was nun?\n",
    "\n",
    "ECO\n",
    "- Gleicher Split: 15 Sommer, 15 Winter\n",
    "- Normiere mit std/mean von DRED\n",
    "\n",
    "\n",
    "OUTPUT\n",
    "- Speichere Train x, Train y"
   ]
  }
 ],
 "metadata": {
  "kernelspec": {
   "display_name": "Python 3",
   "language": "python",
   "name": "python3"
  },
  "language_info": {
   "codemirror_mode": {
    "name": "ipython",
    "version": 3
   },
   "file_extension": ".py",
   "mimetype": "text/x-python",
   "name": "python",
   "nbconvert_exporter": "python",
   "pygments_lexer": "ipython3",
   "version": "3.7.6"
  },
  "notify_time": "10",
  "toc": {
   "base_numbering": 1,
   "nav_menu": {},
   "number_sections": true,
   "sideBar": true,
   "skip_h1_title": false,
   "title_cell": "Table of Contents",
   "title_sidebar": "Contents",
   "toc_cell": false,
   "toc_position": {},
   "toc_section_display": true,
   "toc_window_display": false
  },
  "varInspector": {
   "cols": {
    "lenName": 16,
    "lenType": 16,
    "lenVar": 40
   },
   "kernels_config": {
    "python": {
     "delete_cmd_postfix": "",
     "delete_cmd_prefix": "del ",
     "library": "var_list.py",
     "varRefreshCmd": "print(var_dic_list())"
    },
    "r": {
     "delete_cmd_postfix": ") ",
     "delete_cmd_prefix": "rm(",
     "library": "var_list.r",
     "varRefreshCmd": "cat(var_dic_list()) "
    }
   },
   "position": {
    "height": "754.85px",
    "left": "1534px",
    "right": "20px",
    "top": "116px",
    "width": "350px"
   },
   "types_to_exclude": [
    "module",
    "function",
    "builtin_function_or_method",
    "instance",
    "_Feature"
   ],
   "window_display": true
  }
 },
 "nbformat": 4,
 "nbformat_minor": 4
}
